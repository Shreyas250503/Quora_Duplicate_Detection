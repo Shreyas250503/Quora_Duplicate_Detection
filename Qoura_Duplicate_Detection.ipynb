{
 "cells": [
  {
   "cell_type": "markdown",
   "id": "2b758907-5826-4c9e-bd92-047f8b054e8e",
   "metadata": {},
   "source": [
    "## Installation"
   ]
  },
  {
   "cell_type": "code",
   "execution_count": 1,
   "id": "349cc653-6855-4c60-ba31-76a8a6bba502",
   "metadata": {},
   "outputs": [],
   "source": [
    "import pandas as pd\n",
    "import numpy as np\n",
    "import matplotlib.pyplot as plt\n",
    "import seaborn as sns\n",
    "from tqdm import tqdm"
   ]
  },
  {
   "cell_type": "code",
   "execution_count": 3,
   "id": "978fb277-126f-4508-aef9-0ca3a941096a",
   "metadata": {},
   "outputs": [],
   "source": [
    "import gensim\n",
    "from gensim.models import Word2Vec,KeyedVectors\n",
    "from nltk import sent_tokenize\n",
    "from gensim.utils import simple_preprocess"
   ]
  },
  {
   "cell_type": "markdown",
   "id": "4a384dd2-0f7f-4330-8a91-af4cfebe9fbe",
   "metadata": {},
   "source": [
    "## File Extraction"
   ]
  },
  {
   "cell_type": "code",
   "execution_count": 7,
   "id": "6baf2659-1b9a-4b18-b1c2-d427f9601b3f",
   "metadata": {},
   "outputs": [],
   "source": [
    "data = pd.read_csv(\"questions.csv\")"
   ]
  },
  {
   "cell_type": "code",
   "execution_count": 15,
   "id": "16d970b6-739e-4f5c-a1aa-6f357b29a066",
   "metadata": {},
   "outputs": [
    {
     "data": {
      "text/html": [
       "<div>\n",
       "<style scoped>\n",
       "    .dataframe tbody tr th:only-of-type {\n",
       "        vertical-align: middle;\n",
       "    }\n",
       "\n",
       "    .dataframe tbody tr th {\n",
       "        vertical-align: top;\n",
       "    }\n",
       "\n",
       "    .dataframe thead th {\n",
       "        text-align: right;\n",
       "    }\n",
       "</style>\n",
       "<table border=\"1\" class=\"dataframe\">\n",
       "  <thead>\n",
       "    <tr style=\"text-align: right;\">\n",
       "      <th></th>\n",
       "      <th>id</th>\n",
       "      <th>qid1</th>\n",
       "      <th>qid2</th>\n",
       "      <th>question1</th>\n",
       "      <th>question2</th>\n",
       "      <th>is_duplicate</th>\n",
       "    </tr>\n",
       "  </thead>\n",
       "  <tbody>\n",
       "    <tr>\n",
       "      <th>0</th>\n",
       "      <td>0</td>\n",
       "      <td>1</td>\n",
       "      <td>2</td>\n",
       "      <td>What is the step by step guide to invest in sh...</td>\n",
       "      <td>What is the step by step guide to invest in sh...</td>\n",
       "      <td>0</td>\n",
       "    </tr>\n",
       "    <tr>\n",
       "      <th>1</th>\n",
       "      <td>1</td>\n",
       "      <td>3</td>\n",
       "      <td>4</td>\n",
       "      <td>What is the story of Kohinoor (Koh-i-Noor) Dia...</td>\n",
       "      <td>What would happen if the Indian government sto...</td>\n",
       "      <td>0</td>\n",
       "    </tr>\n",
       "    <tr>\n",
       "      <th>2</th>\n",
       "      <td>2</td>\n",
       "      <td>5</td>\n",
       "      <td>6</td>\n",
       "      <td>How can I increase the speed of my internet co...</td>\n",
       "      <td>How can Internet speed be increased by hacking...</td>\n",
       "      <td>0</td>\n",
       "    </tr>\n",
       "    <tr>\n",
       "      <th>3</th>\n",
       "      <td>3</td>\n",
       "      <td>7</td>\n",
       "      <td>8</td>\n",
       "      <td>Why am I mentally very lonely? How can I solve...</td>\n",
       "      <td>Find the remainder when [math]23^{24}[/math] i...</td>\n",
       "      <td>0</td>\n",
       "    </tr>\n",
       "    <tr>\n",
       "      <th>4</th>\n",
       "      <td>4</td>\n",
       "      <td>9</td>\n",
       "      <td>10</td>\n",
       "      <td>Which one dissolve in water quikly sugar, salt...</td>\n",
       "      <td>Which fish would survive in salt water?</td>\n",
       "      <td>0</td>\n",
       "    </tr>\n",
       "    <tr>\n",
       "      <th>...</th>\n",
       "      <td>...</td>\n",
       "      <td>...</td>\n",
       "      <td>...</td>\n",
       "      <td>...</td>\n",
       "      <td>...</td>\n",
       "      <td>...</td>\n",
       "    </tr>\n",
       "    <tr>\n",
       "      <th>404346</th>\n",
       "      <td>404346</td>\n",
       "      <td>789792</td>\n",
       "      <td>789793</td>\n",
       "      <td>How many keywords are there in the Racket prog...</td>\n",
       "      <td>How many keywords are there in PERL Programmin...</td>\n",
       "      <td>0</td>\n",
       "    </tr>\n",
       "    <tr>\n",
       "      <th>404347</th>\n",
       "      <td>404347</td>\n",
       "      <td>789794</td>\n",
       "      <td>789795</td>\n",
       "      <td>Do you believe there is life after death?</td>\n",
       "      <td>Is it true that there is life after death?</td>\n",
       "      <td>1</td>\n",
       "    </tr>\n",
       "    <tr>\n",
       "      <th>404348</th>\n",
       "      <td>404348</td>\n",
       "      <td>789796</td>\n",
       "      <td>789797</td>\n",
       "      <td>What is one coin?</td>\n",
       "      <td>What's this coin?</td>\n",
       "      <td>0</td>\n",
       "    </tr>\n",
       "    <tr>\n",
       "      <th>404349</th>\n",
       "      <td>404349</td>\n",
       "      <td>789798</td>\n",
       "      <td>789799</td>\n",
       "      <td>What is the approx annual cost of living while...</td>\n",
       "      <td>I am having little hairfall problem but I want...</td>\n",
       "      <td>0</td>\n",
       "    </tr>\n",
       "    <tr>\n",
       "      <th>404350</th>\n",
       "      <td>404350</td>\n",
       "      <td>789800</td>\n",
       "      <td>789801</td>\n",
       "      <td>What is like to have sex with cousin?</td>\n",
       "      <td>What is it like to have sex with your cousin?</td>\n",
       "      <td>0</td>\n",
       "    </tr>\n",
       "  </tbody>\n",
       "</table>\n",
       "<p>404348 rows × 6 columns</p>\n",
       "</div>"
      ],
      "text/plain": [
       "            id    qid1    qid2  \\\n",
       "0            0       1       2   \n",
       "1            1       3       4   \n",
       "2            2       5       6   \n",
       "3            3       7       8   \n",
       "4            4       9      10   \n",
       "...        ...     ...     ...   \n",
       "404346  404346  789792  789793   \n",
       "404347  404347  789794  789795   \n",
       "404348  404348  789796  789797   \n",
       "404349  404349  789798  789799   \n",
       "404350  404350  789800  789801   \n",
       "\n",
       "                                                question1  \\\n",
       "0       What is the step by step guide to invest in sh...   \n",
       "1       What is the story of Kohinoor (Koh-i-Noor) Dia...   \n",
       "2       How can I increase the speed of my internet co...   \n",
       "3       Why am I mentally very lonely? How can I solve...   \n",
       "4       Which one dissolve in water quikly sugar, salt...   \n",
       "...                                                   ...   \n",
       "404346  How many keywords are there in the Racket prog...   \n",
       "404347          Do you believe there is life after death?   \n",
       "404348                                  What is one coin?   \n",
       "404349  What is the approx annual cost of living while...   \n",
       "404350              What is like to have sex with cousin?   \n",
       "\n",
       "                                                question2  is_duplicate  \n",
       "0       What is the step by step guide to invest in sh...             0  \n",
       "1       What would happen if the Indian government sto...             0  \n",
       "2       How can Internet speed be increased by hacking...             0  \n",
       "3       Find the remainder when [math]23^{24}[/math] i...             0  \n",
       "4                 Which fish would survive in salt water?             0  \n",
       "...                                                   ...           ...  \n",
       "404346  How many keywords are there in PERL Programmin...             0  \n",
       "404347         Is it true that there is life after death?             1  \n",
       "404348                                  What's this coin?             0  \n",
       "404349  I am having little hairfall problem but I want...             0  \n",
       "404350      What is it like to have sex with your cousin?             0  \n",
       "\n",
       "[404348 rows x 6 columns]"
      ]
     },
     "execution_count": 15,
     "metadata": {},
     "output_type": "execute_result"
    }
   ],
   "source": [
    "data"
   ]
  },
  {
   "cell_type": "code",
   "execution_count": 11,
   "id": "08335d22-d9d8-4722-be57-619e0c2294af",
   "metadata": {},
   "outputs": [
    {
     "data": {
      "text/plain": [
       "is_duplicate\n",
       "0    255045\n",
       "1    149306\n",
       "Name: count, dtype: int64"
      ]
     },
     "execution_count": 11,
     "metadata": {},
     "output_type": "execute_result"
    }
   ],
   "source": [
    "data[\"is_duplicate\"].value_counts()"
   ]
  },
  {
   "cell_type": "code",
   "execution_count": 13,
   "id": "e68ad654-5c4c-4113-a2e3-4bbfd1018cd0",
   "metadata": {},
   "outputs": [],
   "source": [
    "data.dropna(inplace = True)"
   ]
  },
  {
   "cell_type": "markdown",
   "id": "ff689f4c-605a-4a25-842a-f28a33ecd468",
   "metadata": {},
   "source": [
    "## Creating the Corpus and Text Preprocessing"
   ]
  },
  {
   "cell_type": "code",
   "execution_count": 17,
   "id": "8d631ed7-dcdd-424b-97d3-93ba261c26b9",
   "metadata": {},
   "outputs": [
    {
     "name": "stderr",
     "output_type": "stream",
     "text": [
      "100%|███████████████████████████████| 808696/808696 [00:08<00:00, 100793.20it/s]\n"
     ]
    }
   ],
   "source": [
    "corpus = data['question1'].tolist() + data['question2'].tolist()\n",
    "\n",
    "story = []\n",
    "for sent in tqdm(corpus):\n",
    "    story.append(simple_preprocess(sent))"
   ]
  },
  {
   "cell_type": "markdown",
   "id": "0e431cad-7693-4165-b5d8-46ff8888a2cd",
   "metadata": {},
   "source": [
    "#### Corpus is just a list containing all the questions provided in the dataset for further preprocessing"
   ]
  },
  {
   "cell_type": "markdown",
   "id": "c65133d6-07df-49af-96d3-eddfdd7f55ef",
   "metadata": {},
   "source": [
    "#### Story is the list of all words after Pre-Processing\n",
    "#### 1) Lowercasing\n",
    "#### 2) Tokenization\n",
    "#### 3) Removing Punctuation\n",
    "#### 4) Removing Short and Long Words\n",
    "#### 5) Discarding Non-Alphanumeric Characters\n",
    "#### 6) Word Splitting Based on Whitespace"
   ]
  },
  {
   "cell_type": "code",
   "execution_count": 19,
   "id": "a2388b58-ba50-41c7-9a90-ee95dec046d1",
   "metadata": {},
   "outputs": [
    {
     "name": "stderr",
     "output_type": "stream",
     "text": [
      "[nltk_data] Downloading package stopwords to\n",
      "[nltk_data]     /Users/shreyaskartikey/nltk_data...\n",
      "[nltk_data]   Package stopwords is already up-to-date!\n",
      "100%|█████████████████████████████████| 808696/808696 [07:09<00:00, 1883.15it/s]\n"
     ]
    }
   ],
   "source": [
    "import nltk\n",
    "from nltk.stem import PorterStemmer\n",
    "from nltk.corpus import stopwords\n",
    "nltk.download(\"stopwords\")\n",
    "\n",
    "stemmer = PorterStemmer()\n",
    "def process_word_list(word_list):\n",
    "    meaningful_words = [\n",
    "        stemmer.stem(word)  # Apply stemming\n",
    "        for word in word_list\n",
    "        if word.lower() not in stopwords.words(\"english\")  # Remove stopwords\n",
    "    ]\n",
    "    return meaningful_words\n",
    "\n",
    "cleaned_story = [process_word_list(sublist) for sublist in tqdm(story)]"
   ]
  },
  {
   "cell_type": "markdown",
   "id": "c948a21b-7b43-4534-b8f4-347ad4abab94",
   "metadata": {},
   "source": [
    "## WORD2VEC"
   ]
  },
  {
   "cell_type": "code",
   "execution_count": 21,
   "id": "f01550a0-3f95-421f-9ad7-7fdc04549fa0",
   "metadata": {},
   "outputs": [
    {
     "data": {
      "text/plain": [
       "(20499578, 21717615)"
      ]
     },
     "execution_count": 21,
     "metadata": {},
     "output_type": "execute_result"
    }
   ],
   "source": [
    "word2vec_model = gensim.models.Word2Vec(window = 5, min_count = 2, vector_size=30)\n",
    "word2vec_model.build_vocab(cleaned_story)\n",
    "word2vec_model.train(cleaned_story, \n",
    "            total_examples = word2vec_model.corpus_count, \n",
    "            epochs = word2vec_model.epochs)"
   ]
  },
  {
   "cell_type": "code",
   "execution_count": 23,
   "id": "61299418-c258-4f8a-8b54-98d2de1227ae",
   "metadata": {},
   "outputs": [],
   "source": [
    "data[\"Ques1_Cleaned\"] = cleaned_story[:len(data)]\n",
    "data[\"Ques2_Cleaned\"] = cleaned_story[len(data):]"
   ]
  },
  {
   "cell_type": "code",
   "execution_count": 25,
   "id": "7d1c7fe5-8e93-4366-957c-635ea6722fa7",
   "metadata": {},
   "outputs": [],
   "source": [
    "sample_data = data.copy() # INITIALLY USED FOR TAKING SAMPLES OUT OF MAIN DATA\n",
    "sample_data.reset_index(inplace = True, drop = True)"
   ]
  },
  {
   "cell_type": "code",
   "execution_count": 27,
   "id": "843441f1-6559-413a-9bbb-7d5406937ccf",
   "metadata": {},
   "outputs": [
    {
     "data": {
      "text/html": [
       "<div>\n",
       "<style scoped>\n",
       "    .dataframe tbody tr th:only-of-type {\n",
       "        vertical-align: middle;\n",
       "    }\n",
       "\n",
       "    .dataframe tbody tr th {\n",
       "        vertical-align: top;\n",
       "    }\n",
       "\n",
       "    .dataframe thead th {\n",
       "        text-align: right;\n",
       "    }\n",
       "</style>\n",
       "<table border=\"1\" class=\"dataframe\">\n",
       "  <thead>\n",
       "    <tr style=\"text-align: right;\">\n",
       "      <th></th>\n",
       "      <th>id</th>\n",
       "      <th>qid1</th>\n",
       "      <th>qid2</th>\n",
       "      <th>question1</th>\n",
       "      <th>question2</th>\n",
       "      <th>is_duplicate</th>\n",
       "      <th>Ques1_Cleaned</th>\n",
       "      <th>Ques2_Cleaned</th>\n",
       "    </tr>\n",
       "  </thead>\n",
       "  <tbody>\n",
       "    <tr>\n",
       "      <th>0</th>\n",
       "      <td>0</td>\n",
       "      <td>1</td>\n",
       "      <td>2</td>\n",
       "      <td>What is the step by step guide to invest in sh...</td>\n",
       "      <td>What is the step by step guide to invest in sh...</td>\n",
       "      <td>0</td>\n",
       "      <td>[step, step, guid, invest, share, market, india]</td>\n",
       "      <td>[step, step, guid, invest, share, market]</td>\n",
       "    </tr>\n",
       "    <tr>\n",
       "      <th>1</th>\n",
       "      <td>1</td>\n",
       "      <td>3</td>\n",
       "      <td>4</td>\n",
       "      <td>What is the story of Kohinoor (Koh-i-Noor) Dia...</td>\n",
       "      <td>What would happen if the Indian government sto...</td>\n",
       "      <td>0</td>\n",
       "      <td>[stori, kohinoor, koh, noor, diamond]</td>\n",
       "      <td>[would, happen, indian, govern, stole, kohinoo...</td>\n",
       "    </tr>\n",
       "    <tr>\n",
       "      <th>2</th>\n",
       "      <td>2</td>\n",
       "      <td>5</td>\n",
       "      <td>6</td>\n",
       "      <td>How can I increase the speed of my internet co...</td>\n",
       "      <td>How can Internet speed be increased by hacking...</td>\n",
       "      <td>0</td>\n",
       "      <td>[increas, speed, internet, connect, use, vpn]</td>\n",
       "      <td>[internet, speed, increas, hack, dn]</td>\n",
       "    </tr>\n",
       "    <tr>\n",
       "      <th>3</th>\n",
       "      <td>3</td>\n",
       "      <td>7</td>\n",
       "      <td>8</td>\n",
       "      <td>Why am I mentally very lonely? How can I solve...</td>\n",
       "      <td>Find the remainder when [math]23^{24}[/math] i...</td>\n",
       "      <td>0</td>\n",
       "      <td>[mental, lone, solv]</td>\n",
       "      <td>[find, remaind, math, math, divid]</td>\n",
       "    </tr>\n",
       "    <tr>\n",
       "      <th>4</th>\n",
       "      <td>4</td>\n",
       "      <td>9</td>\n",
       "      <td>10</td>\n",
       "      <td>Which one dissolve in water quikly sugar, salt...</td>\n",
       "      <td>Which fish would survive in salt water?</td>\n",
       "      <td>0</td>\n",
       "      <td>[one, dissolv, water, quikli, sugar, salt, met...</td>\n",
       "      <td>[fish, would, surviv, salt, water]</td>\n",
       "    </tr>\n",
       "    <tr>\n",
       "      <th>...</th>\n",
       "      <td>...</td>\n",
       "      <td>...</td>\n",
       "      <td>...</td>\n",
       "      <td>...</td>\n",
       "      <td>...</td>\n",
       "      <td>...</td>\n",
       "      <td>...</td>\n",
       "      <td>...</td>\n",
       "    </tr>\n",
       "    <tr>\n",
       "      <th>404343</th>\n",
       "      <td>404346</td>\n",
       "      <td>789792</td>\n",
       "      <td>789793</td>\n",
       "      <td>How many keywords are there in the Racket prog...</td>\n",
       "      <td>How many keywords are there in PERL Programmin...</td>\n",
       "      <td>0</td>\n",
       "      <td>[mani, keyword, racket, program, languag, late...</td>\n",
       "      <td>[mani, keyword, perl, program, languag, latest...</td>\n",
       "    </tr>\n",
       "    <tr>\n",
       "      <th>404344</th>\n",
       "      <td>404347</td>\n",
       "      <td>789794</td>\n",
       "      <td>789795</td>\n",
       "      <td>Do you believe there is life after death?</td>\n",
       "      <td>Is it true that there is life after death?</td>\n",
       "      <td>1</td>\n",
       "      <td>[believ, life, death]</td>\n",
       "      <td>[true, life, death]</td>\n",
       "    </tr>\n",
       "    <tr>\n",
       "      <th>404345</th>\n",
       "      <td>404348</td>\n",
       "      <td>789796</td>\n",
       "      <td>789797</td>\n",
       "      <td>What is one coin?</td>\n",
       "      <td>What's this coin?</td>\n",
       "      <td>0</td>\n",
       "      <td>[one, coin]</td>\n",
       "      <td>[coin]</td>\n",
       "    </tr>\n",
       "    <tr>\n",
       "      <th>404346</th>\n",
       "      <td>404349</td>\n",
       "      <td>789798</td>\n",
       "      <td>789799</td>\n",
       "      <td>What is the approx annual cost of living while...</td>\n",
       "      <td>I am having little hairfall problem but I want...</td>\n",
       "      <td>0</td>\n",
       "      <td>[approx, annual, cost, live, studi, uic, chica...</td>\n",
       "      <td>[littl, hairfal, problem, want, use, hair, sty...</td>\n",
       "    </tr>\n",
       "    <tr>\n",
       "      <th>404347</th>\n",
       "      <td>404350</td>\n",
       "      <td>789800</td>\n",
       "      <td>789801</td>\n",
       "      <td>What is like to have sex with cousin?</td>\n",
       "      <td>What is it like to have sex with your cousin?</td>\n",
       "      <td>0</td>\n",
       "      <td>[like, sex, cousin]</td>\n",
       "      <td>[like, sex, cousin]</td>\n",
       "    </tr>\n",
       "  </tbody>\n",
       "</table>\n",
       "<p>404348 rows × 8 columns</p>\n",
       "</div>"
      ],
      "text/plain": [
       "            id    qid1    qid2  \\\n",
       "0            0       1       2   \n",
       "1            1       3       4   \n",
       "2            2       5       6   \n",
       "3            3       7       8   \n",
       "4            4       9      10   \n",
       "...        ...     ...     ...   \n",
       "404343  404346  789792  789793   \n",
       "404344  404347  789794  789795   \n",
       "404345  404348  789796  789797   \n",
       "404346  404349  789798  789799   \n",
       "404347  404350  789800  789801   \n",
       "\n",
       "                                                question1  \\\n",
       "0       What is the step by step guide to invest in sh...   \n",
       "1       What is the story of Kohinoor (Koh-i-Noor) Dia...   \n",
       "2       How can I increase the speed of my internet co...   \n",
       "3       Why am I mentally very lonely? How can I solve...   \n",
       "4       Which one dissolve in water quikly sugar, salt...   \n",
       "...                                                   ...   \n",
       "404343  How many keywords are there in the Racket prog...   \n",
       "404344          Do you believe there is life after death?   \n",
       "404345                                  What is one coin?   \n",
       "404346  What is the approx annual cost of living while...   \n",
       "404347              What is like to have sex with cousin?   \n",
       "\n",
       "                                                question2  is_duplicate  \\\n",
       "0       What is the step by step guide to invest in sh...             0   \n",
       "1       What would happen if the Indian government sto...             0   \n",
       "2       How can Internet speed be increased by hacking...             0   \n",
       "3       Find the remainder when [math]23^{24}[/math] i...             0   \n",
       "4                 Which fish would survive in salt water?             0   \n",
       "...                                                   ...           ...   \n",
       "404343  How many keywords are there in PERL Programmin...             0   \n",
       "404344         Is it true that there is life after death?             1   \n",
       "404345                                  What's this coin?             0   \n",
       "404346  I am having little hairfall problem but I want...             0   \n",
       "404347      What is it like to have sex with your cousin?             0   \n",
       "\n",
       "                                            Ques1_Cleaned  \\\n",
       "0        [step, step, guid, invest, share, market, india]   \n",
       "1                   [stori, kohinoor, koh, noor, diamond]   \n",
       "2           [increas, speed, internet, connect, use, vpn]   \n",
       "3                                    [mental, lone, solv]   \n",
       "4       [one, dissolv, water, quikli, sugar, salt, met...   \n",
       "...                                                   ...   \n",
       "404343  [mani, keyword, racket, program, languag, late...   \n",
       "404344                              [believ, life, death]   \n",
       "404345                                        [one, coin]   \n",
       "404346  [approx, annual, cost, live, studi, uic, chica...   \n",
       "404347                                [like, sex, cousin]   \n",
       "\n",
       "                                            Ques2_Cleaned  \n",
       "0               [step, step, guid, invest, share, market]  \n",
       "1       [would, happen, indian, govern, stole, kohinoo...  \n",
       "2                    [internet, speed, increas, hack, dn]  \n",
       "3                      [find, remaind, math, math, divid]  \n",
       "4                      [fish, would, surviv, salt, water]  \n",
       "...                                                   ...  \n",
       "404343  [mani, keyword, perl, program, languag, latest...  \n",
       "404344                                [true, life, death]  \n",
       "404345                                             [coin]  \n",
       "404346  [littl, hairfal, problem, want, use, hair, sty...  \n",
       "404347                                [like, sex, cousin]  \n",
       "\n",
       "[404348 rows x 8 columns]"
      ]
     },
     "execution_count": 27,
     "metadata": {},
     "output_type": "execute_result"
    }
   ],
   "source": [
    "sample_data"
   ]
  },
  {
   "cell_type": "markdown",
   "id": "2de1eb9b-5103-4021-a1ea-99e8137a4076",
   "metadata": {},
   "source": [
    "## GENERATING CUSTOM FEATURES USING TEXT BLOB\n",
    "+ AVG WORD LENGTH\n",
    "+ WORD COUNT\n",
    "+ AVG SENTENCE LENGTH\n",
    "+ FOG INDEX\n",
    "+ COMPLEX WORD COUNT"
   ]
  },
  {
   "cell_type": "code",
   "execution_count": 29,
   "id": "4da5a2b7-7704-49fb-b257-42ddc5269eeb",
   "metadata": {},
   "outputs": [
    {
     "name": "stdout",
     "output_type": "stream",
     "text": [
      "Requirement already satisfied: textblob in /opt/anaconda3/lib/python3.11/site-packages (0.18.0.post0)\n",
      "Requirement already satisfied: nltk>=3.8 in /opt/anaconda3/lib/python3.11/site-packages (from textblob) (3.8.1)\n",
      "Requirement already satisfied: click in /opt/anaconda3/lib/python3.11/site-packages (from nltk>=3.8->textblob) (8.1.7)\n",
      "Requirement already satisfied: joblib in /opt/anaconda3/lib/python3.11/site-packages (from nltk>=3.8->textblob) (1.2.0)\n",
      "Requirement already satisfied: regex>=2021.8.3 in /opt/anaconda3/lib/python3.11/site-packages (from nltk>=3.8->textblob) (2023.10.3)\n",
      "Requirement already satisfied: tqdm in /opt/anaconda3/lib/python3.11/site-packages (from nltk>=3.8->textblob) (4.65.0)\n"
     ]
    }
   ],
   "source": [
    "!pip install textblob"
   ]
  },
  {
   "cell_type": "code",
   "execution_count": 31,
   "id": "937dd108-4144-4421-bd4c-10e28d08fa01",
   "metadata": {},
   "outputs": [],
   "source": [
    "from textblob import TextBlob\n",
    "\n",
    "def text_analysis(word_list):\n",
    "    # Join the list of words into a text string\n",
    "    text = \" \".join(word_list)\n",
    "\n",
    "    # Create a TextBlob object\n",
    "    blob = TextBlob(text)\n",
    "\n",
    "    # Sentiment Analysis\n",
    "    polarity_score = blob.sentiment.polarity\n",
    "    subjectivity_score = blob.sentiment.subjectivity\n",
    "\n",
    "    # Word Metrics\n",
    "    word_count = len(word_list)\n",
    "    average_word_length = sum(len(word) for word in word_list) / word_count\n",
    "\n",
    "    # Sentence Metrics\n",
    "    sentence_count = len(blob.sentences)\n",
    "    average_sentence_length = word_count / sentence_count\n",
    "\n",
    "    # FOG Index\n",
    "    complex_word_count = len([word for word in word_list if len(word) > 3])\n",
    "    fog_index = 0.4 * (average_sentence_length + complex_word_count / word_count)\n",
    "    \n",
    "    return np.array([average_word_length, word_count, average_sentence_length, fog_index, complex_word_count])"
   ]
  },
  {
   "cell_type": "markdown",
   "id": "f263b382-f61f-453d-a15b-95c8926f7d14",
   "metadata": {},
   "source": [
    "## CONVERTING TEXT COLUMN INTO VECTORS"
   ]
  },
  {
   "cell_type": "code",
   "execution_count": 33,
   "id": "aba45772-1a85-46af-902e-c622cf665e8d",
   "metadata": {},
   "outputs": [
    {
     "name": "stderr",
     "output_type": "stream",
     "text": [
      "100%|█████████████████████████████████| 404348/404348 [03:10<00:00, 2121.04it/s]\n"
     ]
    }
   ],
   "source": [
    "vec1 = np.zeros((len(sample_data), 30))\n",
    "vec2 = np.zeros((len(sample_data), 30))\n",
    "other_features = np.zeros((len(sample_data), 10))\n",
    "\n",
    "for i in tqdm(range(len(sample_data))):\n",
    "    \n",
    "    text1 = sample_data[\"Ques1_Cleaned\"][i]\n",
    "    text2 = sample_data[\"Ques2_Cleaned\"][i]\n",
    "    \n",
    "    if len(text1) != 0:\n",
    "        vec1[i] = (sum([word2vec_model.wv[word] for word in text1 if word in word2vec_model.wv.index_to_key]) / len(text1))\n",
    "        blob1 = text_analysis(text1)\n",
    "    else:\n",
    "        vec1[i] = np.zeros((30,))\n",
    "        blob1 = np.zeros((5,))\n",
    "    if len(text2) != 0:\n",
    "        vec2[i] = (sum([word2vec_model.wv[word] for word in text2 if word in word2vec_model.wv.index_to_key]) / len(text2))\n",
    "        blob2 = text_analysis(text2)\n",
    "    else:\n",
    "        vec2i = np.zeros((30,))\n",
    "        blob2 = np.zeros((5,))\n",
    "    other_features[i] = np.concatenate([blob1, blob2])"
   ]
  },
  {
   "cell_type": "code",
   "execution_count": 35,
   "id": "b593d4ff-a8a5-4722-a4bc-b2716ae841d5",
   "metadata": {},
   "outputs": [
    {
     "data": {
      "text/html": [
       "<div>\n",
       "<style scoped>\n",
       "    .dataframe tbody tr th:only-of-type {\n",
       "        vertical-align: middle;\n",
       "    }\n",
       "\n",
       "    .dataframe tbody tr th {\n",
       "        vertical-align: top;\n",
       "    }\n",
       "\n",
       "    .dataframe thead th {\n",
       "        text-align: right;\n",
       "    }\n",
       "</style>\n",
       "<table border=\"1\" class=\"dataframe\">\n",
       "  <thead>\n",
       "    <tr style=\"text-align: right;\">\n",
       "      <th></th>\n",
       "      <th>id</th>\n",
       "      <th>qid1</th>\n",
       "      <th>qid2</th>\n",
       "      <th>question1</th>\n",
       "      <th>question2</th>\n",
       "      <th>is_duplicate</th>\n",
       "      <th>Ques1_Cleaned</th>\n",
       "      <th>Ques2_Cleaned</th>\n",
       "      <th>0</th>\n",
       "      <th>1</th>\n",
       "      <th>...</th>\n",
       "      <th>60</th>\n",
       "      <th>61</th>\n",
       "      <th>62</th>\n",
       "      <th>63</th>\n",
       "      <th>64</th>\n",
       "      <th>65</th>\n",
       "      <th>66</th>\n",
       "      <th>67</th>\n",
       "      <th>68</th>\n",
       "      <th>69</th>\n",
       "    </tr>\n",
       "  </thead>\n",
       "  <tbody>\n",
       "    <tr>\n",
       "      <th>0</th>\n",
       "      <td>0</td>\n",
       "      <td>1</td>\n",
       "      <td>2</td>\n",
       "      <td>What is the step by step guide to invest in sh...</td>\n",
       "      <td>What is the step by step guide to invest in sh...</td>\n",
       "      <td>0</td>\n",
       "      <td>[step, step, guid, invest, share, market, india]</td>\n",
       "      <td>[step, step, guid, invest, share, market]</td>\n",
       "      <td>-0.792632</td>\n",
       "      <td>1.014682</td>\n",
       "      <td>...</td>\n",
       "      <td>4.857143</td>\n",
       "      <td>7.0</td>\n",
       "      <td>7.0</td>\n",
       "      <td>3.200000</td>\n",
       "      <td>7.0</td>\n",
       "      <td>4.833333</td>\n",
       "      <td>6.0</td>\n",
       "      <td>6.0</td>\n",
       "      <td>2.800000</td>\n",
       "      <td>6.0</td>\n",
       "    </tr>\n",
       "    <tr>\n",
       "      <th>1</th>\n",
       "      <td>1</td>\n",
       "      <td>3</td>\n",
       "      <td>4</td>\n",
       "      <td>What is the story of Kohinoor (Koh-i-Noor) Dia...</td>\n",
       "      <td>What would happen if the Indian government sto...</td>\n",
       "      <td>0</td>\n",
       "      <td>[stori, kohinoor, koh, noor, diamond]</td>\n",
       "      <td>[would, happen, indian, govern, stole, kohinoo...</td>\n",
       "      <td>-0.005346</td>\n",
       "      <td>-0.540368</td>\n",
       "      <td>...</td>\n",
       "      <td>5.400000</td>\n",
       "      <td>5.0</td>\n",
       "      <td>5.0</td>\n",
       "      <td>2.320000</td>\n",
       "      <td>4.0</td>\n",
       "      <td>5.400000</td>\n",
       "      <td>10.0</td>\n",
       "      <td>10.0</td>\n",
       "      <td>4.360000</td>\n",
       "      <td>9.0</td>\n",
       "    </tr>\n",
       "    <tr>\n",
       "      <th>2</th>\n",
       "      <td>2</td>\n",
       "      <td>5</td>\n",
       "      <td>6</td>\n",
       "      <td>How can I increase the speed of my internet co...</td>\n",
       "      <td>How can Internet speed be increased by hacking...</td>\n",
       "      <td>0</td>\n",
       "      <td>[increas, speed, internet, connect, use, vpn]</td>\n",
       "      <td>[internet, speed, increas, hack, dn]</td>\n",
       "      <td>0.868723</td>\n",
       "      <td>0.009957</td>\n",
       "      <td>...</td>\n",
       "      <td>5.500000</td>\n",
       "      <td>6.0</td>\n",
       "      <td>6.0</td>\n",
       "      <td>2.666667</td>\n",
       "      <td>4.0</td>\n",
       "      <td>5.200000</td>\n",
       "      <td>5.0</td>\n",
       "      <td>5.0</td>\n",
       "      <td>2.320000</td>\n",
       "      <td>4.0</td>\n",
       "    </tr>\n",
       "    <tr>\n",
       "      <th>3</th>\n",
       "      <td>3</td>\n",
       "      <td>7</td>\n",
       "      <td>8</td>\n",
       "      <td>Why am I mentally very lonely? How can I solve...</td>\n",
       "      <td>Find the remainder when [math]23^{24}[/math] i...</td>\n",
       "      <td>0</td>\n",
       "      <td>[mental, lone, solv]</td>\n",
       "      <td>[find, remaind, math, math, divid]</td>\n",
       "      <td>0.971169</td>\n",
       "      <td>-1.965530</td>\n",
       "      <td>...</td>\n",
       "      <td>4.666667</td>\n",
       "      <td>3.0</td>\n",
       "      <td>3.0</td>\n",
       "      <td>1.600000</td>\n",
       "      <td>3.0</td>\n",
       "      <td>4.800000</td>\n",
       "      <td>5.0</td>\n",
       "      <td>5.0</td>\n",
       "      <td>2.400000</td>\n",
       "      <td>5.0</td>\n",
       "    </tr>\n",
       "    <tr>\n",
       "      <th>4</th>\n",
       "      <td>4</td>\n",
       "      <td>9</td>\n",
       "      <td>10</td>\n",
       "      <td>Which one dissolve in water quikly sugar, salt...</td>\n",
       "      <td>Which fish would survive in salt water?</td>\n",
       "      <td>0</td>\n",
       "      <td>[one, dissolv, water, quikli, sugar, salt, met...</td>\n",
       "      <td>[fish, would, surviv, salt, water]</td>\n",
       "      <td>0.556791</td>\n",
       "      <td>-0.654168</td>\n",
       "      <td>...</td>\n",
       "      <td>4.800000</td>\n",
       "      <td>10.0</td>\n",
       "      <td>10.0</td>\n",
       "      <td>4.320000</td>\n",
       "      <td>8.0</td>\n",
       "      <td>4.800000</td>\n",
       "      <td>5.0</td>\n",
       "      <td>5.0</td>\n",
       "      <td>2.400000</td>\n",
       "      <td>5.0</td>\n",
       "    </tr>\n",
       "    <tr>\n",
       "      <th>...</th>\n",
       "      <td>...</td>\n",
       "      <td>...</td>\n",
       "      <td>...</td>\n",
       "      <td>...</td>\n",
       "      <td>...</td>\n",
       "      <td>...</td>\n",
       "      <td>...</td>\n",
       "      <td>...</td>\n",
       "      <td>...</td>\n",
       "      <td>...</td>\n",
       "      <td>...</td>\n",
       "      <td>...</td>\n",
       "      <td>...</td>\n",
       "      <td>...</td>\n",
       "      <td>...</td>\n",
       "      <td>...</td>\n",
       "      <td>...</td>\n",
       "      <td>...</td>\n",
       "      <td>...</td>\n",
       "      <td>...</td>\n",
       "      <td>...</td>\n",
       "    </tr>\n",
       "    <tr>\n",
       "      <th>404343</th>\n",
       "      <td>404346</td>\n",
       "      <td>789792</td>\n",
       "      <td>789793</td>\n",
       "      <td>How many keywords are there in the Racket prog...</td>\n",
       "      <td>How many keywords are there in PERL Programmin...</td>\n",
       "      <td>0</td>\n",
       "      <td>[mani, keyword, racket, program, languag, late...</td>\n",
       "      <td>[mani, keyword, perl, program, languag, latest...</td>\n",
       "      <td>0.498051</td>\n",
       "      <td>1.488108</td>\n",
       "      <td>...</td>\n",
       "      <td>6.285714</td>\n",
       "      <td>7.0</td>\n",
       "      <td>7.0</td>\n",
       "      <td>3.200000</td>\n",
       "      <td>7.0</td>\n",
       "      <td>6.000000</td>\n",
       "      <td>7.0</td>\n",
       "      <td>7.0</td>\n",
       "      <td>3.200000</td>\n",
       "      <td>7.0</td>\n",
       "    </tr>\n",
       "    <tr>\n",
       "      <th>404344</th>\n",
       "      <td>404347</td>\n",
       "      <td>789794</td>\n",
       "      <td>789795</td>\n",
       "      <td>Do you believe there is life after death?</td>\n",
       "      <td>Is it true that there is life after death?</td>\n",
       "      <td>1</td>\n",
       "      <td>[believ, life, death]</td>\n",
       "      <td>[true, life, death]</td>\n",
       "      <td>1.635524</td>\n",
       "      <td>-2.695404</td>\n",
       "      <td>...</td>\n",
       "      <td>5.000000</td>\n",
       "      <td>3.0</td>\n",
       "      <td>3.0</td>\n",
       "      <td>1.600000</td>\n",
       "      <td>3.0</td>\n",
       "      <td>4.333333</td>\n",
       "      <td>3.0</td>\n",
       "      <td>3.0</td>\n",
       "      <td>1.600000</td>\n",
       "      <td>3.0</td>\n",
       "    </tr>\n",
       "    <tr>\n",
       "      <th>404345</th>\n",
       "      <td>404348</td>\n",
       "      <td>789796</td>\n",
       "      <td>789797</td>\n",
       "      <td>What is one coin?</td>\n",
       "      <td>What's this coin?</td>\n",
       "      <td>0</td>\n",
       "      <td>[one, coin]</td>\n",
       "      <td>[coin]</td>\n",
       "      <td>0.606906</td>\n",
       "      <td>0.385499</td>\n",
       "      <td>...</td>\n",
       "      <td>3.500000</td>\n",
       "      <td>2.0</td>\n",
       "      <td>2.0</td>\n",
       "      <td>1.000000</td>\n",
       "      <td>1.0</td>\n",
       "      <td>4.000000</td>\n",
       "      <td>1.0</td>\n",
       "      <td>1.0</td>\n",
       "      <td>0.800000</td>\n",
       "      <td>1.0</td>\n",
       "    </tr>\n",
       "    <tr>\n",
       "      <th>404346</th>\n",
       "      <td>404349</td>\n",
       "      <td>789798</td>\n",
       "      <td>789799</td>\n",
       "      <td>What is the approx annual cost of living while...</td>\n",
       "      <td>I am having little hairfall problem but I want...</td>\n",
       "      <td>0</td>\n",
       "      <td>[approx, annual, cost, live, studi, uic, chica...</td>\n",
       "      <td>[littl, hairfal, problem, want, use, hair, sty...</td>\n",
       "      <td>0.104771</td>\n",
       "      <td>-0.375512</td>\n",
       "      <td>...</td>\n",
       "      <td>5.333333</td>\n",
       "      <td>9.0</td>\n",
       "      <td>9.0</td>\n",
       "      <td>3.955556</td>\n",
       "      <td>8.0</td>\n",
       "      <td>4.692308</td>\n",
       "      <td>13.0</td>\n",
       "      <td>13.0</td>\n",
       "      <td>5.476923</td>\n",
       "      <td>9.0</td>\n",
       "    </tr>\n",
       "    <tr>\n",
       "      <th>404347</th>\n",
       "      <td>404350</td>\n",
       "      <td>789800</td>\n",
       "      <td>789801</td>\n",
       "      <td>What is like to have sex with cousin?</td>\n",
       "      <td>What is it like to have sex with your cousin?</td>\n",
       "      <td>0</td>\n",
       "      <td>[like, sex, cousin]</td>\n",
       "      <td>[like, sex, cousin]</td>\n",
       "      <td>-0.573753</td>\n",
       "      <td>0.014453</td>\n",
       "      <td>...</td>\n",
       "      <td>4.333333</td>\n",
       "      <td>3.0</td>\n",
       "      <td>3.0</td>\n",
       "      <td>1.466667</td>\n",
       "      <td>2.0</td>\n",
       "      <td>4.333333</td>\n",
       "      <td>3.0</td>\n",
       "      <td>3.0</td>\n",
       "      <td>1.466667</td>\n",
       "      <td>2.0</td>\n",
       "    </tr>\n",
       "  </tbody>\n",
       "</table>\n",
       "<p>404348 rows × 78 columns</p>\n",
       "</div>"
      ],
      "text/plain": [
       "            id    qid1    qid2  \\\n",
       "0            0       1       2   \n",
       "1            1       3       4   \n",
       "2            2       5       6   \n",
       "3            3       7       8   \n",
       "4            4       9      10   \n",
       "...        ...     ...     ...   \n",
       "404343  404346  789792  789793   \n",
       "404344  404347  789794  789795   \n",
       "404345  404348  789796  789797   \n",
       "404346  404349  789798  789799   \n",
       "404347  404350  789800  789801   \n",
       "\n",
       "                                                question1  \\\n",
       "0       What is the step by step guide to invest in sh...   \n",
       "1       What is the story of Kohinoor (Koh-i-Noor) Dia...   \n",
       "2       How can I increase the speed of my internet co...   \n",
       "3       Why am I mentally very lonely? How can I solve...   \n",
       "4       Which one dissolve in water quikly sugar, salt...   \n",
       "...                                                   ...   \n",
       "404343  How many keywords are there in the Racket prog...   \n",
       "404344          Do you believe there is life after death?   \n",
       "404345                                  What is one coin?   \n",
       "404346  What is the approx annual cost of living while...   \n",
       "404347              What is like to have sex with cousin?   \n",
       "\n",
       "                                                question2  is_duplicate  \\\n",
       "0       What is the step by step guide to invest in sh...             0   \n",
       "1       What would happen if the Indian government sto...             0   \n",
       "2       How can Internet speed be increased by hacking...             0   \n",
       "3       Find the remainder when [math]23^{24}[/math] i...             0   \n",
       "4                 Which fish would survive in salt water?             0   \n",
       "...                                                   ...           ...   \n",
       "404343  How many keywords are there in PERL Programmin...             0   \n",
       "404344         Is it true that there is life after death?             1   \n",
       "404345                                  What's this coin?             0   \n",
       "404346  I am having little hairfall problem but I want...             0   \n",
       "404347      What is it like to have sex with your cousin?             0   \n",
       "\n",
       "                                            Ques1_Cleaned  \\\n",
       "0        [step, step, guid, invest, share, market, india]   \n",
       "1                   [stori, kohinoor, koh, noor, diamond]   \n",
       "2           [increas, speed, internet, connect, use, vpn]   \n",
       "3                                    [mental, lone, solv]   \n",
       "4       [one, dissolv, water, quikli, sugar, salt, met...   \n",
       "...                                                   ...   \n",
       "404343  [mani, keyword, racket, program, languag, late...   \n",
       "404344                              [believ, life, death]   \n",
       "404345                                        [one, coin]   \n",
       "404346  [approx, annual, cost, live, studi, uic, chica...   \n",
       "404347                                [like, sex, cousin]   \n",
       "\n",
       "                                            Ques2_Cleaned         0         1  \\\n",
       "0               [step, step, guid, invest, share, market] -0.792632  1.014682   \n",
       "1       [would, happen, indian, govern, stole, kohinoo... -0.005346 -0.540368   \n",
       "2                    [internet, speed, increas, hack, dn]  0.868723  0.009957   \n",
       "3                      [find, remaind, math, math, divid]  0.971169 -1.965530   \n",
       "4                      [fish, would, surviv, salt, water]  0.556791 -0.654168   \n",
       "...                                                   ...       ...       ...   \n",
       "404343  [mani, keyword, perl, program, languag, latest...  0.498051  1.488108   \n",
       "404344                                [true, life, death]  1.635524 -2.695404   \n",
       "404345                                             [coin]  0.606906  0.385499   \n",
       "404346  [littl, hairfal, problem, want, use, hair, sty...  0.104771 -0.375512   \n",
       "404347                                [like, sex, cousin] -0.573753  0.014453   \n",
       "\n",
       "        ...        60    61    62        63   64        65    66    67  \\\n",
       "0       ...  4.857143   7.0   7.0  3.200000  7.0  4.833333   6.0   6.0   \n",
       "1       ...  5.400000   5.0   5.0  2.320000  4.0  5.400000  10.0  10.0   \n",
       "2       ...  5.500000   6.0   6.0  2.666667  4.0  5.200000   5.0   5.0   \n",
       "3       ...  4.666667   3.0   3.0  1.600000  3.0  4.800000   5.0   5.0   \n",
       "4       ...  4.800000  10.0  10.0  4.320000  8.0  4.800000   5.0   5.0   \n",
       "...     ...       ...   ...   ...       ...  ...       ...   ...   ...   \n",
       "404343  ...  6.285714   7.0   7.0  3.200000  7.0  6.000000   7.0   7.0   \n",
       "404344  ...  5.000000   3.0   3.0  1.600000  3.0  4.333333   3.0   3.0   \n",
       "404345  ...  3.500000   2.0   2.0  1.000000  1.0  4.000000   1.0   1.0   \n",
       "404346  ...  5.333333   9.0   9.0  3.955556  8.0  4.692308  13.0  13.0   \n",
       "404347  ...  4.333333   3.0   3.0  1.466667  2.0  4.333333   3.0   3.0   \n",
       "\n",
       "              68   69  \n",
       "0       2.800000  6.0  \n",
       "1       4.360000  9.0  \n",
       "2       2.320000  4.0  \n",
       "3       2.400000  5.0  \n",
       "4       2.400000  5.0  \n",
       "...          ...  ...  \n",
       "404343  3.200000  7.0  \n",
       "404344  1.600000  3.0  \n",
       "404345  0.800000  1.0  \n",
       "404346  5.476923  9.0  \n",
       "404347  1.466667  2.0  \n",
       "\n",
       "[404348 rows x 78 columns]"
      ]
     },
     "execution_count": 35,
     "metadata": {},
     "output_type": "execute_result"
    }
   ],
   "source": [
    "sample_data = pd.concat([sample_data, \n",
    "                        pd.DataFrame(vec1, columns = np.arange(0, 30)),\n",
    "                        pd.DataFrame(vec2, columns = np.arange(30, 60)),\n",
    "                        pd.DataFrame(other_features, columns = np.arange(60, 70))], axis = 1)\n",
    "sample_data"
   ]
  },
  {
   "cell_type": "markdown",
   "id": "7fa9e220-a828-4a33-b5a5-8101287deae5",
   "metadata": {},
   "source": [
    "## OVERSAMPLING"
   ]
  },
  {
   "cell_type": "code",
   "execution_count": 37,
   "id": "0c3336de-b043-4cf6-86e5-e6ac80b2571c",
   "metadata": {},
   "outputs": [
    {
     "data": {
      "text/plain": [
       "((510084, 70), (510084,))"
      ]
     },
     "execution_count": 37,
     "metadata": {},
     "output_type": "execute_result"
    }
   ],
   "source": [
    "from imblearn.over_sampling import SMOTE\n",
    "\n",
    "smote = SMOTE(sampling_strategy='auto', random_state=42)\n",
    "xresampled, yresampled = smote.fit_resample(sample_data.iloc[:,8:], sample_data[\"is_duplicate\"])\n",
    "xresampled.shape, yresampled.shape"
   ]
  },
  {
   "cell_type": "markdown",
   "id": "f336ca3b-bc0b-47aa-9c9b-c28f360c4444",
   "metadata": {},
   "source": [
    "## MODELING"
   ]
  },
  {
   "cell_type": "code",
   "execution_count": 39,
   "id": "04cd3ad4-907c-4e53-8614-b38e901d8e62",
   "metadata": {},
   "outputs": [
    {
     "data": {
      "text/plain": [
       "((408067, 70), (408067,))"
      ]
     },
     "execution_count": 39,
     "metadata": {},
     "output_type": "execute_result"
    }
   ],
   "source": [
    "from sklearn.model_selection import train_test_split\n",
    "from sklearn.metrics import confusion_matrix\n",
    "xtrain, xtest, ytrain, ytest = train_test_split(xresampled, yresampled, test_size = 0.2)\n",
    "xtrain.shape, ytrain.shape"
   ]
  },
  {
   "cell_type": "code",
   "execution_count": 41,
   "id": "46dfb692-8d01-479a-a936-8eeaec95f299",
   "metadata": {},
   "outputs": [],
   "source": [
    "from sklearn.ensemble import RandomForestClassifier\n",
    "rf_model = RandomForestClassifier()"
   ]
  },
  {
   "cell_type": "code",
   "execution_count": 43,
   "id": "3df1ed79-462b-48ca-bcb6-aad0dd148de9",
   "metadata": {},
   "outputs": [
    {
     "name": "stderr",
     "output_type": "stream",
     "text": [
      "100%|███████████████████████████████████████████| 20/20 [14:51<00:00, 44.56s/it]\n"
     ]
    },
    {
     "name": "stdout",
     "output_type": "stream",
     "text": [
      "Model score: 0.8365468500347981\n"
     ]
    }
   ],
   "source": [
    "n_estimators = 20\n",
    "rf_model.set_params(n_estimators=0)  # Initialize with zero trees\n",
    "\n",
    "for i in tqdm(range(1, n_estimators + 1)):\n",
    "    rf_model.set_params(n_estimators=i)\n",
    "    rf_model.fit(xtrain, ytrain)\n",
    "\n",
    "# Evaluate the model\n",
    "score = rf_model.score(xtest, ytest)\n",
    "print(f'Model score: {score}')"
   ]
  },
  {
   "cell_type": "code",
   "execution_count": 45,
   "id": "6bcfabae-2ec5-4a5c-8dbe-e8fb4f5b1880",
   "metadata": {},
   "outputs": [
    {
     "data": {
      "text/plain": [
       "['rf_model.pkl']"
      ]
     },
     "execution_count": 45,
     "metadata": {},
     "output_type": "execute_result"
    }
   ],
   "source": [
    "import joblib\n",
    "joblib.dump(rf_model, 'rf_model.pkl')"
   ]
  },
  {
   "cell_type": "code",
   "execution_count": 47,
   "id": "4237518e-efa8-43e9-950f-f04cd2d14e7b",
   "metadata": {},
   "outputs": [],
   "source": [
    "loaded_rf_model = joblib.load('rf_model.pkl')"
   ]
  },
  {
   "cell_type": "markdown",
   "id": "0a26ebe3-0073-45da-88e6-d6faf0757368",
   "metadata": {},
   "source": [
    "## PERFORMANCE ANALYSIS"
   ]
  },
  {
   "cell_type": "code",
   "execution_count": 49,
   "id": "a88fbdc3-78d7-4605-8cee-7107b5635a9a",
   "metadata": {},
   "outputs": [],
   "source": [
    "from sklearn.metrics import confusion_matrix, classification_report\n",
    "\n",
    "ypred1 = rf_model.predict(xtest)\n",
    "conf_matrix1 = confusion_matrix(ytest, ypred1)"
   ]
  },
  {
   "cell_type": "code",
   "execution_count": 51,
   "id": "f9405304-42cb-4364-a0af-426f347a498b",
   "metadata": {},
   "outputs": [
    {
     "data": {
      "image/png": "[encoded data removed]",
      "text/plain": [
       "<Figure size 400x400 with 1 Axes>"
      ]
     },
     "metadata": {},
     "output_type": "display_data"
    }
   ],
   "source": [
    "plt.figure(figsize=(4, 4))\n",
    "sns.heatmap(conf_matrix1, annot=True, fmt='d', cmap='Blues', cbar=False)\n",
    "plt.xlabel('Predicted Labels')\n",
    "plt.ylabel('True Labels')\n",
    "plt.title('RANDOM FOREST')\n",
    "plt.show()"
   ]
  },
  {
   "cell_type": "code",
   "execution_count": 53,
   "id": "de46ca9e-dfc5-4b8e-9612-bf2473be8ab0",
   "metadata": {},
   "outputs": [
    {
     "data": {
      "text/html": [
       "<div>\n",
       "<style scoped>\n",
       "    .dataframe tbody tr th:only-of-type {\n",
       "        vertical-align: middle;\n",
       "    }\n",
       "\n",
       "    .dataframe tbody tr th {\n",
       "        vertical-align: top;\n",
       "    }\n",
       "\n",
       "    .dataframe thead th {\n",
       "        text-align: right;\n",
       "    }\n",
       "</style>\n",
       "<table border=\"1\" class=\"dataframe\">\n",
       "  <thead>\n",
       "    <tr style=\"text-align: right;\">\n",
       "      <th></th>\n",
       "      <th>0</th>\n",
       "      <th>1</th>\n",
       "      <th>accuracy</th>\n",
       "      <th>macro avg</th>\n",
       "      <th>weighted avg</th>\n",
       "    </tr>\n",
       "  </thead>\n",
       "  <tbody>\n",
       "    <tr>\n",
       "      <th>precision</th>\n",
       "      <td>0.821240</td>\n",
       "      <td>0.853217</td>\n",
       "      <td>0.836547</td>\n",
       "      <td>0.837228</td>\n",
       "      <td>0.837280</td>\n",
       "    </tr>\n",
       "    <tr>\n",
       "      <th>recall</th>\n",
       "      <td>0.859020</td>\n",
       "      <td>0.814218</td>\n",
       "      <td>0.836547</td>\n",
       "      <td>0.836619</td>\n",
       "      <td>0.836547</td>\n",
       "    </tr>\n",
       "    <tr>\n",
       "      <th>f1-score</th>\n",
       "      <td>0.839705</td>\n",
       "      <td>0.833262</td>\n",
       "      <td>0.836547</td>\n",
       "      <td>0.836483</td>\n",
       "      <td>0.836473</td>\n",
       "    </tr>\n",
       "    <tr>\n",
       "      <th>support</th>\n",
       "      <td>50844.000000</td>\n",
       "      <td>51173.000000</td>\n",
       "      <td>0.836547</td>\n",
       "      <td>102017.000000</td>\n",
       "      <td>102017.000000</td>\n",
       "    </tr>\n",
       "  </tbody>\n",
       "</table>\n",
       "</div>"
      ],
      "text/plain": [
       "                      0             1  accuracy      macro avg   weighted avg\n",
       "precision      0.821240      0.853217  0.836547       0.837228       0.837280\n",
       "recall         0.859020      0.814218  0.836547       0.836619       0.836547\n",
       "f1-score       0.839705      0.833262  0.836547       0.836483       0.836473\n",
       "support    50844.000000  51173.000000  0.836547  102017.000000  102017.000000"
      ]
     },
     "execution_count": 53,
     "metadata": {},
     "output_type": "execute_result"
    }
   ],
   "source": [
    "class_report1 = pd.DataFrame(classification_report(ytest, ypred1, output_dict = True))\n",
    "class_report1 "
   ]
  },
  {
   "cell_type": "markdown",
   "id": "e22e9649-14da-42c3-9c66-99d05c2f5cdd",
   "metadata": {},
   "source": [
    "### SAMPLE INFERENCE"
   ]
  },
  {
   "cell_type": "code",
   "execution_count": 55,
   "id": "49c0e1f8-e9ab-4e83-94d5-aa624ea9e5ff",
   "metadata": {},
   "outputs": [
    {
     "data": {
      "text/plain": [
       "('What are some notable examples of Freudian slips?',\n",
       " 'Is the Freudian approach to the human condition valid?',\n",
       " 0)"
      ]
     },
     "execution_count": 55,
     "metadata": {},
     "output_type": "execute_result"
    }
   ],
   "source": [
    "# sample1 = 'What are some common examples of solid matter?'\n",
    "# sample2 = 'What are the most common examples of solid matter?'\n",
    "\n",
    "l = 13242\n",
    "sample1 = data[\"question1\"][l]\n",
    "sample2 = data[\"question2\"][l]\n",
    "sample1, sample2, data[\"is_duplicate\"][l]"
   ]
  },
  {
   "cell_type": "code",
   "execution_count": 57,
   "id": "ecc97e6e-6d4f-4113-8997-12ecbbddf365",
   "metadata": {},
   "outputs": [
    {
     "data": {
      "text/html": [
       "<div>\n",
       "<style scoped>\n",
       "    .dataframe tbody tr th:only-of-type {\n",
       "        vertical-align: middle;\n",
       "    }\n",
       "\n",
       "    .dataframe tbody tr th {\n",
       "        vertical-align: top;\n",
       "    }\n",
       "\n",
       "    .dataframe thead th {\n",
       "        text-align: right;\n",
       "    }\n",
       "</style>\n",
       "<table border=\"1\" class=\"dataframe\">\n",
       "  <thead>\n",
       "    <tr style=\"text-align: right;\">\n",
       "      <th></th>\n",
       "      <th>0</th>\n",
       "      <th>1</th>\n",
       "      <th>2</th>\n",
       "      <th>3</th>\n",
       "      <th>4</th>\n",
       "      <th>5</th>\n",
       "      <th>6</th>\n",
       "      <th>7</th>\n",
       "      <th>8</th>\n",
       "      <th>9</th>\n",
       "      <th>...</th>\n",
       "      <th>60</th>\n",
       "      <th>61</th>\n",
       "      <th>62</th>\n",
       "      <th>63</th>\n",
       "      <th>64</th>\n",
       "      <th>65</th>\n",
       "      <th>66</th>\n",
       "      <th>67</th>\n",
       "      <th>68</th>\n",
       "      <th>69</th>\n",
       "    </tr>\n",
       "  </thead>\n",
       "  <tbody>\n",
       "    <tr>\n",
       "      <th>0</th>\n",
       "      <td>0.602071</td>\n",
       "      <td>-0.172372</td>\n",
       "      <td>-0.21955</td>\n",
       "      <td>0.087717</td>\n",
       "      <td>0.112737</td>\n",
       "      <td>0.049913</td>\n",
       "      <td>0.788473</td>\n",
       "      <td>-0.532041</td>\n",
       "      <td>0.041038</td>\n",
       "      <td>0.155847</td>\n",
       "      <td>...</td>\n",
       "      <td>6.5</td>\n",
       "      <td>4.0</td>\n",
       "      <td>4.0</td>\n",
       "      <td>2.0</td>\n",
       "      <td>4.0</td>\n",
       "      <td>6.6</td>\n",
       "      <td>5.0</td>\n",
       "      <td>5.0</td>\n",
       "      <td>2.4</td>\n",
       "      <td>5.0</td>\n",
       "    </tr>\n",
       "  </tbody>\n",
       "</table>\n",
       "<p>1 rows × 70 columns</p>\n",
       "</div>"
      ],
      "text/plain": [
       "         0         1        2         3         4         5         6   \\\n",
       "0  0.602071 -0.172372 -0.21955  0.087717  0.112737  0.049913  0.788473   \n",
       "\n",
       "         7         8         9   ...   60   61   62   63   64   65   66   67  \\\n",
       "0 -0.532041  0.041038  0.155847  ...  6.5  4.0  4.0  2.0  4.0  6.6  5.0  5.0   \n",
       "\n",
       "    68   69  \n",
       "0  2.4  5.0  \n",
       "\n",
       "[1 rows x 70 columns]"
      ]
     },
     "execution_count": 57,
     "metadata": {},
     "output_type": "execute_result"
    }
   ],
   "source": [
    "def inference(sample1, sample2):\n",
    "    inf_text1 = process_word_list(sample1.split())\n",
    "    inf_text2 = process_word_list(sample2.split())\n",
    "\n",
    "    inf_vec1 = np.zeros((1, 30))\n",
    "    inf_vec2 = np.zeros((1, 30))\n",
    "    inf_other_features = np.zeros((1, 10))\n",
    "\n",
    "    if len(inf_text1) != 0:\n",
    "        inf_vec1[0] = (sum([word2vec_model.wv[word] for word in inf_text1 if word in word2vec_model.wv.index_to_key]) / len(inf_text1))\n",
    "        inf_blob1 = text_analysis(inf_text1)\n",
    "    else:\n",
    "        inf_vec1[0] = np.zeros((30,))\n",
    "        inf_blob1 = np.zeros((5,))\n",
    "    if len(inf_text2) != 0:\n",
    "        inf_vec2[0] = (sum([word2vec_model.wv[word] for word in inf_text2 if word in word2vec_model.wv.index_to_key]) / len(inf_text2))\n",
    "        inf_blob2 = text_analysis(inf_text2)\n",
    "    else:\n",
    "        inf_vec2[0] = np.zeros((30,))\n",
    "        inf_blob2 = np.zeros((5,))\n",
    "    inf_other_features[0] = np.concatenate([inf_blob1, inf_blob2])\n",
    "\n",
    "    inf_data = pd.DataFrame({})\n",
    "    inf_data = pd.concat([inf_data, \n",
    "                            pd.DataFrame(inf_vec1, columns = np.arange(0, 30)),\n",
    "                            pd.DataFrame(inf_vec2, columns = np.arange(30, 60)),\n",
    "                            pd.DataFrame(inf_other_features, columns = np.arange(60, 70))], axis = 1)\n",
    "    return inf_data\n",
    "\n",
    "inf_data = inference(sample1, sample2)\n",
    "inf_data"
   ]
  },
  {
   "cell_type": "code",
   "execution_count": 59,
   "id": "629fa71c-9553-4a3c-b422-1542e68c91eb",
   "metadata": {},
   "outputs": [
    {
     "name": "stdout",
     "output_type": "stream",
     "text": [
      "DIFFERENT\n"
     ]
    }
   ],
   "source": [
    "out = rf_model.predict(inf_data)\n",
    "\n",
    "if out == 0:\n",
    "    print(\"DIFFERENT\")\n",
    "else:\n",
    "    print(\"DUPLICATE\")"
   ]
  },
  {
   "cell_type": "markdown",
   "id": "9906576d-eeab-49ab-8e03-adf722a1cc28",
   "metadata": {},
   "source": [
    "### PREDICTION ON SAMPLE DATA"
   ]
  },
  {
   "cell_type": "code",
   "execution_count": 61,
   "id": "49a5a051-a135-4bed-bea1-269955b75604",
   "metadata": {},
   "outputs": [
    {
     "data": {
      "text/html": [
       "<div>\n",
       "<style scoped>\n",
       "    .dataframe tbody tr th:only-of-type {\n",
       "        vertical-align: middle;\n",
       "    }\n",
       "\n",
       "    .dataframe tbody tr th {\n",
       "        vertical-align: top;\n",
       "    }\n",
       "\n",
       "    .dataframe thead th {\n",
       "        text-align: right;\n",
       "    }\n",
       "</style>\n",
       "<table border=\"1\" class=\"dataframe\">\n",
       "  <thead>\n",
       "    <tr style=\"text-align: right;\">\n",
       "      <th></th>\n",
       "      <th>question1</th>\n",
       "      <th>question2</th>\n",
       "      <th>is_duplicate</th>\n",
       "    </tr>\n",
       "  </thead>\n",
       "  <tbody>\n",
       "    <tr>\n",
       "      <th>0</th>\n",
       "      <td>How can we prepare for the interview?</td>\n",
       "      <td>How can I prepare for interview?</td>\n",
       "      <td>1</td>\n",
       "    </tr>\n",
       "    <tr>\n",
       "      <th>1</th>\n",
       "      <td>Is a resting heart rate of 123 bpm too fast?</td>\n",
       "      <td>Is a resting heart rate of 112 bpm dangerous?</td>\n",
       "      <td>0</td>\n",
       "    </tr>\n",
       "    <tr>\n",
       "      <th>2</th>\n",
       "      <td>Do Psychopaths have microexpressions?</td>\n",
       "      <td>Do psychopaths have the ability to have micro-...</td>\n",
       "      <td>1</td>\n",
       "    </tr>\n",
       "    <tr>\n",
       "      <th>3</th>\n",
       "      <td>What is cams?</td>\n",
       "      <td>What is a CAM?</td>\n",
       "      <td>0</td>\n",
       "    </tr>\n",
       "    <tr>\n",
       "      <th>4</th>\n",
       "      <td>I appear on someone's Instagram \"following\" li...</td>\n",
       "      <td>I appear on someone's Instagram \"following\" li...</td>\n",
       "      <td>1</td>\n",
       "    </tr>\n",
       "    <tr>\n",
       "      <th>5</th>\n",
       "      <td>I am Brahmin. My friend is Maratha. He's been ...</td>\n",
       "      <td>What is the exact status of Brahmins in India ...</td>\n",
       "      <td>0</td>\n",
       "    </tr>\n",
       "    <tr>\n",
       "      <th>6</th>\n",
       "      <td>Why density of ice is less than water?</td>\n",
       "      <td>Why is ice lighter than water?</td>\n",
       "      <td>1</td>\n",
       "    </tr>\n",
       "    <tr>\n",
       "      <th>7</th>\n",
       "      <td>Who are the best dentists in australia?</td>\n",
       "      <td>Do you know any Dentists in Croatia?</td>\n",
       "      <td>0</td>\n",
       "    </tr>\n",
       "    <tr>\n",
       "      <th>8</th>\n",
       "      <td>What do Americans think about Donald Trump?</td>\n",
       "      <td>What do you think about Donald Trump in Septem...</td>\n",
       "      <td>1</td>\n",
       "    </tr>\n",
       "    <tr>\n",
       "      <th>9</th>\n",
       "      <td>How Indonesia Muslim?</td>\n",
       "      <td>Why is Indonesia Muslim?</td>\n",
       "      <td>1</td>\n",
       "    </tr>\n",
       "  </tbody>\n",
       "</table>\n",
       "</div>"
      ],
      "text/plain": [
       "                                           question1  \\\n",
       "0              How can we prepare for the interview?   \n",
       "1       Is a resting heart rate of 123 bpm too fast?   \n",
       "2              Do Psychopaths have microexpressions?   \n",
       "3                                      What is cams?   \n",
       "4  I appear on someone's Instagram \"following\" li...   \n",
       "5  I am Brahmin. My friend is Maratha. He's been ...   \n",
       "6             Why density of ice is less than water?   \n",
       "7            Who are the best dentists in australia?   \n",
       "8        What do Americans think about Donald Trump?   \n",
       "9                              How Indonesia Muslim?   \n",
       "\n",
       "                                           question2  is_duplicate  \n",
       "0                   How can I prepare for interview?             1  \n",
       "1      Is a resting heart rate of 112 bpm dangerous?             0  \n",
       "2  Do psychopaths have the ability to have micro-...             1  \n",
       "3                                     What is a CAM?             0  \n",
       "4  I appear on someone's Instagram \"following\" li...             1  \n",
       "5  What is the exact status of Brahmins in India ...             0  \n",
       "6                     Why is ice lighter than water?             1  \n",
       "7               Do you know any Dentists in Croatia?             0  \n",
       "8  What do you think about Donald Trump in Septem...             1  \n",
       "9                           Why is Indonesia Muslim?             1  "
      ]
     },
     "execution_count": 61,
     "metadata": {},
     "output_type": "execute_result"
    }
   ],
   "source": [
    "sam = data.sample(10).iloc[:,3:6]\n",
    "sam.reset_index(inplace = True, drop = True)\n",
    "sam"
   ]
  },
  {
   "cell_type": "code",
   "execution_count": 63,
   "id": "920a8cb2-eed2-4f56-ab9b-271f23dbcf19",
   "metadata": {},
   "outputs": [
    {
     "data": {
      "text/html": [
       "<div>\n",
       "<style scoped>\n",
       "    .dataframe tbody tr th:only-of-type {\n",
       "        vertical-align: middle;\n",
       "    }\n",
       "\n",
       "    .dataframe tbody tr th {\n",
       "        vertical-align: top;\n",
       "    }\n",
       "\n",
       "    .dataframe thead th {\n",
       "        text-align: right;\n",
       "    }\n",
       "</style>\n",
       "<table border=\"1\" class=\"dataframe\">\n",
       "  <thead>\n",
       "    <tr style=\"text-align: right;\">\n",
       "      <th></th>\n",
       "      <th>question1</th>\n",
       "      <th>question2</th>\n",
       "      <th>is_duplicate</th>\n",
       "      <th>Predictions</th>\n",
       "    </tr>\n",
       "  </thead>\n",
       "  <tbody>\n",
       "    <tr>\n",
       "      <th>0</th>\n",
       "      <td>How can we prepare for the interview?</td>\n",
       "      <td>How can I prepare for interview?</td>\n",
       "      <td>1</td>\n",
       "      <td>1</td>\n",
       "    </tr>\n",
       "    <tr>\n",
       "      <th>1</th>\n",
       "      <td>Is a resting heart rate of 123 bpm too fast?</td>\n",
       "      <td>Is a resting heart rate of 112 bpm dangerous?</td>\n",
       "      <td>0</td>\n",
       "      <td>0</td>\n",
       "    </tr>\n",
       "    <tr>\n",
       "      <th>2</th>\n",
       "      <td>Do Psychopaths have microexpressions?</td>\n",
       "      <td>Do psychopaths have the ability to have micro-...</td>\n",
       "      <td>1</td>\n",
       "      <td>0</td>\n",
       "    </tr>\n",
       "    <tr>\n",
       "      <th>3</th>\n",
       "      <td>What is cams?</td>\n",
       "      <td>What is a CAM?</td>\n",
       "      <td>0</td>\n",
       "      <td>0</td>\n",
       "    </tr>\n",
       "    <tr>\n",
       "      <th>4</th>\n",
       "      <td>I appear on someone's Instagram \"following\" li...</td>\n",
       "      <td>I appear on someone's Instagram \"following\" li...</td>\n",
       "      <td>1</td>\n",
       "      <td>0</td>\n",
       "    </tr>\n",
       "    <tr>\n",
       "      <th>5</th>\n",
       "      <td>I am Brahmin. My friend is Maratha. He's been ...</td>\n",
       "      <td>What is the exact status of Brahmins in India ...</td>\n",
       "      <td>0</td>\n",
       "      <td>1</td>\n",
       "    </tr>\n",
       "    <tr>\n",
       "      <th>6</th>\n",
       "      <td>Why density of ice is less than water?</td>\n",
       "      <td>Why is ice lighter than water?</td>\n",
       "      <td>1</td>\n",
       "      <td>0</td>\n",
       "    </tr>\n",
       "    <tr>\n",
       "      <th>7</th>\n",
       "      <td>Who are the best dentists in australia?</td>\n",
       "      <td>Do you know any Dentists in Croatia?</td>\n",
       "      <td>0</td>\n",
       "      <td>0</td>\n",
       "    </tr>\n",
       "    <tr>\n",
       "      <th>8</th>\n",
       "      <td>What do Americans think about Donald Trump?</td>\n",
       "      <td>What do you think about Donald Trump in Septem...</td>\n",
       "      <td>1</td>\n",
       "      <td>1</td>\n",
       "    </tr>\n",
       "    <tr>\n",
       "      <th>9</th>\n",
       "      <td>How Indonesia Muslim?</td>\n",
       "      <td>Why is Indonesia Muslim?</td>\n",
       "      <td>1</td>\n",
       "      <td>0</td>\n",
       "    </tr>\n",
       "  </tbody>\n",
       "</table>\n",
       "</div>"
      ],
      "text/plain": [
       "                                           question1  \\\n",
       "0              How can we prepare for the interview?   \n",
       "1       Is a resting heart rate of 123 bpm too fast?   \n",
       "2              Do Psychopaths have microexpressions?   \n",
       "3                                      What is cams?   \n",
       "4  I appear on someone's Instagram \"following\" li...   \n",
       "5  I am Brahmin. My friend is Maratha. He's been ...   \n",
       "6             Why density of ice is less than water?   \n",
       "7            Who are the best dentists in australia?   \n",
       "8        What do Americans think about Donald Trump?   \n",
       "9                              How Indonesia Muslim?   \n",
       "\n",
       "                                           question2  is_duplicate  \\\n",
       "0                   How can I prepare for interview?             1   \n",
       "1      Is a resting heart rate of 112 bpm dangerous?             0   \n",
       "2  Do psychopaths have the ability to have micro-...             1   \n",
       "3                                     What is a CAM?             0   \n",
       "4  I appear on someone's Instagram \"following\" li...             1   \n",
       "5  What is the exact status of Brahmins in India ...             0   \n",
       "6                     Why is ice lighter than water?             1   \n",
       "7               Do you know any Dentists in Croatia?             0   \n",
       "8  What do you think about Donald Trump in Septem...             1   \n",
       "9                           Why is Indonesia Muslim?             1   \n",
       "\n",
       "   Predictions  \n",
       "0            1  \n",
       "1            0  \n",
       "2            0  \n",
       "3            0  \n",
       "4            0  \n",
       "5            1  \n",
       "6            0  \n",
       "7            0  \n",
       "8            1  \n",
       "9            0  "
      ]
     },
     "execution_count": 63,
     "metadata": {},
     "output_type": "execute_result"
    }
   ],
   "source": [
    "outs = []\n",
    "for k in range(len(sam)):\n",
    "    sample1 = sam[\"question1\"][k]\n",
    "    sample2 = sam[\"question2\"][k]\n",
    "    inf_data = inference(sample1, sample2)\n",
    "    outs.append(rf_model.predict(inf_data)[0])\n",
    "sam[\"Predictions\"] = outs\n",
    "sam"
   ]
  },
  {
   "cell_type": "markdown",
   "id": "e0b21c0f-70e0-4c7c-a8dd-6ab057e3a8ab",
   "metadata": {},
   "source": [
    "# RNN - DL APPROACH"
   ]
  },
  {
   "cell_type": "markdown",
   "id": "1a82d3c7-ca3c-426d-96a6-4d9b61cf9cd0",
   "metadata": {},
   "source": [
    "### MAKING TOKENIZED SEQUENCES"
   ]
  },
  {
   "cell_type": "code",
   "execution_count": 65,
   "id": "62a52b6d-59fa-4fdb-8e3d-2080bd03839a",
   "metadata": {},
   "outputs": [
    {
     "data": {
      "text/plain": [
       "((510084, 2), (510084,))"
      ]
     },
     "execution_count": 65,
     "metadata": {},
     "output_type": "execute_result"
    }
   ],
   "source": [
    "from imblearn.over_sampling import RandomOverSampler\n",
    "\n",
    "ros = RandomOverSampler(random_state=42)\n",
    "xresampled_dl, yresampled_dl = ros.fit_resample(data.iloc[:,3:5], data[\"is_duplicate\"])\n",
    "xresampled_dl.shape, yresampled_dl.shape"
   ]
  },
  {
   "cell_type": "code",
   "execution_count": 67,
   "id": "9040ea45-d694-49ff-86d5-bf862f093d76",
   "metadata": {},
   "outputs": [
    {
     "name": "stderr",
     "output_type": "stream",
     "text": [
      "100%|███████████████████████████████| 510084/510084 [00:02<00:00, 187458.02it/s]\n"
     ]
    }
   ],
   "source": [
    "que1 = np.array(xresampled_dl['question1'].tolist())\n",
    "que2 = np.array(xresampled_dl['question2'].tolist())\n",
    "\n",
    "docx = []\n",
    "for i in tqdm(range(len(que1))):\n",
    "    docx.append(que1[i] + \" \" + que2[i])"
   ]
  },
  {
   "cell_type": "code",
   "execution_count": 69,
   "id": "e1f1e879-e641-4f6a-a2a0-11dbf16ebeb0",
   "metadata": {},
   "outputs": [
    {
     "name": "stderr",
     "output_type": "stream",
     "text": [
      "100%|██████████████████████████████| 510084/510084 [00:00<00:00, 1194766.11it/s]\n"
     ]
    }
   ],
   "source": [
    "lengths = []\n",
    "for sent in tqdm(docx):\n",
    "    lengths.append(len(sent.split()))"
   ]
  },
  {
   "cell_type": "code",
   "execution_count": 71,
   "id": "14250acf-f626-4d41-ac62-c7dcb23135b4",
   "metadata": {},
   "outputs": [
    {
     "name": "stderr",
     "output_type": "stream",
     "text": [
      "/opt/anaconda3/lib/python3.11/site-packages/seaborn/_oldcore.py:1119: FutureWarning: use_inf_as_na option is deprecated and will be removed in a future version. Convert inf values to NaN before operating instead.\n",
      "  with pd.option_context('mode.use_inf_as_na', True):\n"
     ]
    },
    {
     "data": {
      "text/plain": [
       "<Axes: ylabel='Density'>"
      ]
     },
     "execution_count": 71,
     "metadata": {},
     "output_type": "execute_result"
    },
    {
     "data": {
      "image/png": "[encoded data removed]",
      "text/plain": [
       "<Figure size 640x480 with 1 Axes>"
      ]
     },
     "metadata": {},
     "output_type": "display_data"
    }
   ],
   "source": [
    "sns.kdeplot(lengths) # TO SEE, AROUND WHICH NUMBER THE MOST SENTENCE LENGHTS LIES"
   ]
  },
  {
   "cell_type": "code",
   "execution_count": 73,
   "id": "1badb158-5ea2-440d-89a8-cac998cd7b26",
   "metadata": {},
   "outputs": [
    {
     "name": "stdout",
     "output_type": "stream",
     "text": [
      "Requirement already satisfied: tensorflow in /opt/anaconda3/lib/python3.11/site-packages (2.17.0)\n",
      "Requirement already satisfied: absl-py>=1.0.0 in /opt/anaconda3/lib/python3.11/site-packages (from tensorflow) (2.1.0)\n",
      "Requirement already satisfied: astunparse>=1.6.0 in /opt/anaconda3/lib/python3.11/site-packages (from tensorflow) (1.6.3)\n",
      "Requirement already satisfied: flatbuffers>=24.3.25 in /opt/anaconda3/lib/python3.11/site-packages (from tensorflow) (24.3.25)\n",
      "Requirement already satisfied: gast!=0.5.0,!=0.5.1,!=0.5.2,>=0.2.1 in /opt/anaconda3/lib/python3.11/site-packages (from tensorflow) (0.6.0)\n",
      "Requirement already satisfied: google-pasta>=0.1.1 in /opt/anaconda3/lib/python3.11/site-packages (from tensorflow) (0.2.0)\n",
      "Requirement already satisfied: h5py>=3.10.0 in /opt/anaconda3/lib/python3.11/site-packages (from tensorflow) (3.11.0)\n",
      "Requirement already satisfied: libclang>=13.0.0 in /opt/anaconda3/lib/python3.11/site-packages (from tensorflow) (18.1.1)\n",
      "Requirement already satisfied: ml-dtypes<0.5.0,>=0.3.1 in /opt/anaconda3/lib/python3.11/site-packages (from tensorflow) (0.4.0)\n",
      "Requirement already satisfied: opt-einsum>=2.3.2 in /opt/anaconda3/lib/python3.11/site-packages (from tensorflow) (3.3.0)\n",
      "Requirement already satisfied: packaging in /opt/anaconda3/lib/python3.11/site-packages (from tensorflow) (23.1)\n",
      "Requirement already satisfied: protobuf!=4.21.0,!=4.21.1,!=4.21.2,!=4.21.3,!=4.21.4,!=4.21.5,<5.0.0dev,>=3.20.3 in /opt/anaconda3/lib/python3.11/site-packages (from tensorflow) (3.20.3)\n",
      "Requirement already satisfied: requests<3,>=2.21.0 in /opt/anaconda3/lib/python3.11/site-packages (from tensorflow) (2.31.0)\n",
      "Requirement already satisfied: setuptools in /opt/anaconda3/lib/python3.11/site-packages (from tensorflow) (68.2.2)\n",
      "Requirement already satisfied: six>=1.12.0 in /opt/anaconda3/lib/python3.11/site-packages (from tensorflow) (1.16.0)\n",
      "Requirement already satisfied: termcolor>=1.1.0 in /opt/anaconda3/lib/python3.11/site-packages (from tensorflow) (2.4.0)\n",
      "Requirement already satisfied: typing-extensions>=3.6.6 in /opt/anaconda3/lib/python3.11/site-packages (from tensorflow) (4.12.2)\n",
      "Requirement already satisfied: wrapt>=1.11.0 in /opt/anaconda3/lib/python3.11/site-packages (from tensorflow) (1.14.1)\n",
      "Requirement already satisfied: grpcio<2.0,>=1.24.3 in /opt/anaconda3/lib/python3.11/site-packages (from tensorflow) (1.64.1)\n",
      "Requirement already satisfied: tensorboard<2.18,>=2.17 in /opt/anaconda3/lib/python3.11/site-packages (from tensorflow) (2.17.0)\n",
      "Requirement already satisfied: keras>=3.2.0 in /opt/anaconda3/lib/python3.11/site-packages (from tensorflow) (3.4.1)\n",
      "Requirement already satisfied: tensorflow-io-gcs-filesystem>=0.23.1 in /opt/anaconda3/lib/python3.11/site-packages (from tensorflow) (0.37.1)\n",
      "Requirement already satisfied: numpy<2.0.0,>=1.23.5 in /opt/anaconda3/lib/python3.11/site-packages (from tensorflow) (1.26.4)\n",
      "Requirement already satisfied: wheel<1.0,>=0.23.0 in /opt/anaconda3/lib/python3.11/site-packages (from astunparse>=1.6.0->tensorflow) (0.41.2)\n",
      "Requirement already satisfied: rich in /opt/anaconda3/lib/python3.11/site-packages (from keras>=3.2.0->tensorflow) (13.3.5)\n",
      "Requirement already satisfied: namex in /opt/anaconda3/lib/python3.11/site-packages (from keras>=3.2.0->tensorflow) (0.0.8)\n",
      "Requirement already satisfied: optree in /opt/anaconda3/lib/python3.11/site-packages (from keras>=3.2.0->tensorflow) (0.12.1)\n",
      "Requirement already satisfied: charset-normalizer<4,>=2 in /opt/anaconda3/lib/python3.11/site-packages (from requests<3,>=2.21.0->tensorflow) (2.0.4)\n",
      "Requirement already satisfied: idna<4,>=2.5 in /opt/anaconda3/lib/python3.11/site-packages (from requests<3,>=2.21.0->tensorflow) (3.4)\n",
      "Requirement already satisfied: urllib3<3,>=1.21.1 in /opt/anaconda3/lib/python3.11/site-packages (from requests<3,>=2.21.0->tensorflow) (2.0.7)\n",
      "Requirement already satisfied: certifi>=2017.4.17 in /opt/anaconda3/lib/python3.11/site-packages (from requests<3,>=2.21.0->tensorflow) (2024.7.4)\n",
      "Requirement already satisfied: markdown>=2.6.8 in /opt/anaconda3/lib/python3.11/site-packages (from tensorboard<2.18,>=2.17->tensorflow) (3.4.1)\n",
      "Requirement already satisfied: tensorboard-data-server<0.8.0,>=0.7.0 in /opt/anaconda3/lib/python3.11/site-packages (from tensorboard<2.18,>=2.17->tensorflow) (0.7.2)\n",
      "Requirement already satisfied: werkzeug>=1.0.1 in /opt/anaconda3/lib/python3.11/site-packages (from tensorboard<2.18,>=2.17->tensorflow) (2.2.3)\n",
      "Requirement already satisfied: MarkupSafe>=2.1.1 in /opt/anaconda3/lib/python3.11/site-packages (from werkzeug>=1.0.1->tensorboard<2.18,>=2.17->tensorflow) (2.1.3)\n",
      "Requirement already satisfied: markdown-it-py<3.0.0,>=2.2.0 in /opt/anaconda3/lib/python3.11/site-packages (from rich->keras>=3.2.0->tensorflow) (2.2.0)\n",
      "Requirement already satisfied: pygments<3.0.0,>=2.13.0 in /opt/anaconda3/lib/python3.11/site-packages (from rich->keras>=3.2.0->tensorflow) (2.15.1)\n",
      "Requirement already satisfied: mdurl~=0.1 in /opt/anaconda3/lib/python3.11/site-packages (from markdown-it-py<3.0.0,>=2.2.0->rich->keras>=3.2.0->tensorflow) (0.1.0)\n",
      "Requirement already satisfied: keras in /opt/anaconda3/lib/python3.11/site-packages (3.4.1)\n",
      "Requirement already satisfied: absl-py in /opt/anaconda3/lib/python3.11/site-packages (from keras) (2.1.0)\n",
      "Requirement already satisfied: numpy in /opt/anaconda3/lib/python3.11/site-packages (from keras) (1.26.4)\n",
      "Requirement already satisfied: rich in /opt/anaconda3/lib/python3.11/site-packages (from keras) (13.3.5)\n",
      "Requirement already satisfied: namex in /opt/anaconda3/lib/python3.11/site-packages (from keras) (0.0.8)\n",
      "Requirement already satisfied: h5py in /opt/anaconda3/lib/python3.11/site-packages (from keras) (3.11.0)\n",
      "Requirement already satisfied: optree in /opt/anaconda3/lib/python3.11/site-packages (from keras) (0.12.1)\n",
      "Requirement already satisfied: ml-dtypes in /opt/anaconda3/lib/python3.11/site-packages (from keras) (0.4.0)\n",
      "Requirement already satisfied: packaging in /opt/anaconda3/lib/python3.11/site-packages (from keras) (23.1)\n",
      "Requirement already satisfied: typing-extensions>=4.5.0 in /opt/anaconda3/lib/python3.11/site-packages (from optree->keras) (4.12.2)\n",
      "Requirement already satisfied: markdown-it-py<3.0.0,>=2.2.0 in /opt/anaconda3/lib/python3.11/site-packages (from rich->keras) (2.2.0)\n",
      "Requirement already satisfied: pygments<3.0.0,>=2.13.0 in /opt/anaconda3/lib/python3.11/site-packages (from rich->keras) (2.15.1)\n",
      "Requirement already satisfied: mdurl~=0.1 in /opt/anaconda3/lib/python3.11/site-packages (from markdown-it-py<3.0.0,>=2.2.0->rich->keras) (0.1.0)\n"
     ]
    }
   ],
   "source": [
    "!pip install tensorflow\n",
    "!pip install keras"
   ]
  },
  {
   "cell_type": "code",
   "execution_count": 75,
   "id": "9e990bcf-5f23-403a-a629-57e1d3cb230b",
   "metadata": {},
   "outputs": [],
   "source": [
    "import tensorflow as tf\n",
    "from tensorflow.keras.preprocessing.text import Tokenizer\n",
    "from tensorflow.keras.utils import pad_sequences\n",
    "\n",
    "tokenizer = Tokenizer(oov_token = \"<nothing>\")\n",
    "tokenizer.fit_on_texts(docx)\n",
    "sequences = tokenizer.texts_to_sequences(docx)\n",
    "sequences = pad_sequences(sequences, padding = \"post\", maxlen = 35)"
   ]
  },
  {
   "cell_type": "code",
   "execution_count": 77,
   "id": "04a00d69-6b2d-4335-841a-94d3cf86f968",
   "metadata": {},
   "outputs": [
    {
     "data": {
      "text/plain": [
       "(510084, 35)"
      ]
     },
     "execution_count": 77,
     "metadata": {},
     "output_type": "execute_result"
    }
   ],
   "source": [
    "sequences.shape"
   ]
  },
  {
   "cell_type": "markdown",
   "id": "1ac7ef75-3e87-4cb6-9781-35b0499b559c",
   "metadata": {},
   "source": [
    "## MODEL ARCHITECTURE"
   ]
  },
  {
   "cell_type": "code",
   "execution_count": 79,
   "id": "1b49323f-eaf0-48d2-86a3-e369ecfb4118",
   "metadata": {},
   "outputs": [
    {
     "name": "stderr",
     "output_type": "stream",
     "text": [
      "/opt/anaconda3/lib/python3.11/site-packages/keras/src/layers/core/embedding.py:90: UserWarning: Argument `input_length` is deprecated. Just remove it.\n",
      "  warnings.warn(\n"
     ]
    },
    {
     "data": {
      "text/html": [
       "<pre style=\"white-space:pre;overflow-x:auto;line-height:normal;font-family:Menlo,'DejaVu Sans Mono',consolas,'Courier New',monospace\"><span style=\"font-weight: bold\">Model: \"sequential\"</span>\n",
       "</pre>\n"
      ],
      "text/plain": [
       "\u001b[1mModel: \"sequential\"\u001b[0m\n"
      ]
     },
     "metadata": {},
     "output_type": "display_data"
    },
    {
     "data": {
      "text/html": [
       "<pre style=\"white-space:pre;overflow-x:auto;line-height:normal;font-family:Menlo,'DejaVu Sans Mono',consolas,'Courier New',monospace\">┏━━━━━━━━━━━━━━━━━━━━━━━━━━━━━━━━━┳━━━━━━━━━━━━━━━━━━━━━━━━┳━━━━━━━━━━━━━━━┓\n",
       "┃<span style=\"font-weight: bold\"> Layer (type)                    </span>┃<span style=\"font-weight: bold\"> Output Shape           </span>┃<span style=\"font-weight: bold\">       Param # </span>┃\n",
       "┡━━━━━━━━━━━━━━━━━━━━━━━━━━━━━━━━━╇━━━━━━━━━━━━━━━━━━━━━━━━╇━━━━━━━━━━━━━━━┩\n",
       "│ embedding (<span style=\"color: #0087ff; text-decoration-color: #0087ff\">Embedding</span>)           │ ?                      │   <span style=\"color: #00af00; text-decoration-color: #00af00\">0</span> (unbuilt) │\n",
       "├─────────────────────────────────┼────────────────────────┼───────────────┤\n",
       "│ simple_rnn (<span style=\"color: #0087ff; text-decoration-color: #0087ff\">SimpleRNN</span>)          │ ?                      │   <span style=\"color: #00af00; text-decoration-color: #00af00\">0</span> (unbuilt) │\n",
       "├─────────────────────────────────┼────────────────────────┼───────────────┤\n",
       "│ dense (<span style=\"color: #0087ff; text-decoration-color: #0087ff\">Dense</span>)                   │ ?                      │   <span style=\"color: #00af00; text-decoration-color: #00af00\">0</span> (unbuilt) │\n",
       "└─────────────────────────────────┴────────────────────────┴───────────────┘\n",
       "</pre>\n"
      ],
      "text/plain": [
       "┏━━━━━━━━━━━━━━━━━━━━━━━━━━━━━━━━━┳━━━━━━━━━━━━━━━━━━━━━━━━┳━━━━━━━━━━━━━━━┓\n",
       "┃\u001b[1m \u001b[0m\u001b[1mLayer (type)                   \u001b[0m\u001b[1m \u001b[0m┃\u001b[1m \u001b[0m\u001b[1mOutput Shape          \u001b[0m\u001b[1m \u001b[0m┃\u001b[1m \u001b[0m\u001b[1m      Param #\u001b[0m\u001b[1m \u001b[0m┃\n",
       "┡━━━━━━━━━━━━━━━━━━━━━━━━━━━━━━━━━╇━━━━━━━━━━━━━━━━━━━━━━━━╇━━━━━━━━━━━━━━━┩\n",
       "│ embedding (\u001b[38;5;33mEmbedding\u001b[0m)           │ ?                      │   \u001b[38;5;34m0\u001b[0m (unbuilt) │\n",
       "├─────────────────────────────────┼────────────────────────┼───────────────┤\n",
       "│ simple_rnn (\u001b[38;5;33mSimpleRNN\u001b[0m)          │ ?                      │   \u001b[38;5;34m0\u001b[0m (unbuilt) │\n",
       "├─────────────────────────────────┼────────────────────────┼───────────────┤\n",
       "│ dense (\u001b[38;5;33mDense\u001b[0m)                   │ ?                      │   \u001b[38;5;34m0\u001b[0m (unbuilt) │\n",
       "└─────────────────────────────────┴────────────────────────┴───────────────┘\n"
      ]
     },
     "metadata": {},
     "output_type": "display_data"
    },
    {
     "data": {
      "text/html": [
       "<pre style=\"white-space:pre;overflow-x:auto;line-height:normal;font-family:Menlo,'DejaVu Sans Mono',consolas,'Courier New',monospace\"><span style=\"font-weight: bold\"> Total params: </span><span style=\"color: #00af00; text-decoration-color: #00af00\">0</span> (0.00 B)\n",
       "</pre>\n"
      ],
      "text/plain": [
       "\u001b[1m Total params: \u001b[0m\u001b[38;5;34m0\u001b[0m (0.00 B)\n"
      ]
     },
     "metadata": {},
     "output_type": "display_data"
    },
    {
     "data": {
      "text/html": [
       "<pre style=\"white-space:pre;overflow-x:auto;line-height:normal;font-family:Menlo,'DejaVu Sans Mono',consolas,'Courier New',monospace\"><span style=\"font-weight: bold\"> Trainable params: </span><span style=\"color: #00af00; text-decoration-color: #00af00\">0</span> (0.00 B)\n",
       "</pre>\n"
      ],
      "text/plain": [
       "\u001b[1m Trainable params: \u001b[0m\u001b[38;5;34m0\u001b[0m (0.00 B)\n"
      ]
     },
     "metadata": {},
     "output_type": "display_data"
    },
    {
     "data": {
      "text/html": [
       "<pre style=\"white-space:pre;overflow-x:auto;line-height:normal;font-family:Menlo,'DejaVu Sans Mono',consolas,'Courier New',monospace\"><span style=\"font-weight: bold\"> Non-trainable params: </span><span style=\"color: #00af00; text-decoration-color: #00af00\">0</span> (0.00 B)\n",
       "</pre>\n"
      ],
      "text/plain": [
       "\u001b[1m Non-trainable params: \u001b[0m\u001b[38;5;34m0\u001b[0m (0.00 B)\n"
      ]
     },
     "metadata": {},
     "output_type": "display_data"
    }
   ],
   "source": [
    "\n",
    "model = tf.keras.Sequential()\n",
    "model.add(tf.keras.layers.Embedding(sequences.max()+1, output_dim = 30, input_length = 35))\n",
    "model.add(tf.keras.layers.SimpleRNN(32, return_sequences = False))\n",
    "model.add(tf.keras.layers.Dense(1, activation = \"sigmoid\"))\n",
    "model.summary()"
   ]
  },
  {
   "cell_type": "code",
   "execution_count": 81,
   "id": "6f9eb0da-22d6-4c51-ae3d-4e557fc9f437",
   "metadata": {},
   "outputs": [
    {
     "name": "stdout",
     "output_type": "stream",
     "text": [
      "Epoch 1/20\n",
      "\u001b[1m409/409\u001b[0m \u001b[32m━━━━━━━━━━━━━━━━━━━━\u001b[0m\u001b[37m\u001b[0m \u001b[1m10s\u001b[0m 21ms/step - accuracy: 0.7054 - loss: 0.5670 - val_accuracy: 0.6704 - val_loss: 0.6286\n",
      "Epoch 2/20\n",
      "\u001b[1m409/409\u001b[0m \u001b[32m━━━━━━━━━━━━━━━━━━━━\u001b[0m\u001b[37m\u001b[0m \u001b[1m11s\u001b[0m 26ms/step - accuracy: 0.7922 - loss: 0.4457 - val_accuracy: 0.6112 - val_loss: 0.6744\n",
      "Epoch 3/20\n",
      "\u001b[1m409/409\u001b[0m \u001b[32m━━━━━━━━━━━━━━━━━━━━\u001b[0m\u001b[37m\u001b[0m \u001b[1m9s\u001b[0m 22ms/step - accuracy: 0.8353 - loss: 0.3668 - val_accuracy: 0.8984 - val_loss: 0.2850\n",
      "Epoch 4/20\n",
      "\u001b[1m409/409\u001b[0m \u001b[32m━━━━━━━━━━━━━━━━━━━━\u001b[0m\u001b[37m\u001b[0m \u001b[1m10s\u001b[0m 25ms/step - accuracy: 0.8670 - loss: 0.3037 - val_accuracy: 0.9097 - val_loss: 0.2900\n",
      "Epoch 5/20\n",
      "\u001b[1m409/409\u001b[0m \u001b[32m━━━━━━━━━━━━━━━━━━━━\u001b[0m\u001b[37m\u001b[0m \u001b[1m12s\u001b[0m 30ms/step - accuracy: 0.8919 - loss: 0.2536 - val_accuracy: 0.8927 - val_loss: 0.2880\n",
      "Epoch 6/20\n",
      "\u001b[1m409/409\u001b[0m \u001b[32m━━━━━━━━━━━━━━━━━━━━\u001b[0m\u001b[37m\u001b[0m \u001b[1m17s\u001b[0m 41ms/step - accuracy: 0.9095 - loss: 0.2164 - val_accuracy: 0.9310 - val_loss: 0.1930\n",
      "Epoch 7/20\n",
      "\u001b[1m409/409\u001b[0m \u001b[32m━━━━━━━━━━━━━━━━━━━━\u001b[0m\u001b[37m\u001b[0m \u001b[1m10s\u001b[0m 23ms/step - accuracy: 0.9207 - loss: 0.1917 - val_accuracy: 0.9007 - val_loss: 0.2496\n",
      "Epoch 8/20\n",
      "\u001b[1m409/409\u001b[0m \u001b[32m━━━━━━━━━━━━━━━━━━━━\u001b[0m\u001b[37m\u001b[0m \u001b[1m11s\u001b[0m 28ms/step - accuracy: 0.9306 - loss: 0.1705 - val_accuracy: 0.9417 - val_loss: 0.1674\n",
      "Epoch 9/20\n",
      "\u001b[1m409/409\u001b[0m \u001b[32m━━━━━━━━━━━━━━━━━━━━\u001b[0m\u001b[37m\u001b[0m \u001b[1m10s\u001b[0m 25ms/step - accuracy: 0.9375 - loss: 0.1548 - val_accuracy: 0.9461 - val_loss: 0.1622\n",
      "Epoch 10/20\n",
      "\u001b[1m409/409\u001b[0m \u001b[32m━━━━━━━━━━━━━━━━━━━━\u001b[0m\u001b[37m\u001b[0m \u001b[1m9s\u001b[0m 22ms/step - accuracy: 0.9433 - loss: 0.1419 - val_accuracy: 0.9487 - val_loss: 0.1522\n",
      "Epoch 11/20\n",
      "\u001b[1m409/409\u001b[0m \u001b[32m━━━━━━━━━━━━━━━━━━━━\u001b[0m\u001b[37m\u001b[0m \u001b[1m10s\u001b[0m 24ms/step - accuracy: 0.9498 - loss: 0.1263 - val_accuracy: 0.9454 - val_loss: 0.1503\n",
      "Epoch 12/20\n",
      "\u001b[1m409/409\u001b[0m \u001b[32m━━━━━━━━━━━━━━━━━━━━\u001b[0m\u001b[37m\u001b[0m \u001b[1m9s\u001b[0m 23ms/step - accuracy: 0.9545 - loss: 0.1163 - val_accuracy: 0.9466 - val_loss: 0.1426\n",
      "Epoch 13/20\n",
      "\u001b[1m409/409\u001b[0m \u001b[32m━━━━━━━━━━━━━━━━━━━━\u001b[0m\u001b[37m\u001b[0m \u001b[1m9s\u001b[0m 22ms/step - accuracy: 0.9582 - loss: 0.1067 - val_accuracy: 0.9591 - val_loss: 0.1174\n",
      "Epoch 14/20\n",
      "\u001b[1m409/409\u001b[0m \u001b[32m━━━━━━━━━━━━━━━━━━━━\u001b[0m\u001b[37m\u001b[0m \u001b[1m10s\u001b[0m 25ms/step - accuracy: 0.9603 - loss: 0.1014 - val_accuracy: 0.9832 - val_loss: 0.0634\n",
      "Epoch 15/20\n",
      "\u001b[1m409/409\u001b[0m \u001b[32m━━━━━━━━━━━━━━━━━━━━\u001b[0m\u001b[37m\u001b[0m \u001b[1m10s\u001b[0m 24ms/step - accuracy: 0.9642 - loss: 0.0922 - val_accuracy: 0.9629 - val_loss: 0.1090\n",
      "Epoch 16/20\n",
      "\u001b[1m409/409\u001b[0m \u001b[32m━━━━━━━━━━━━━━━━━━━━\u001b[0m\u001b[37m\u001b[0m \u001b[1m9s\u001b[0m 22ms/step - accuracy: 0.9669 - loss: 0.0858 - val_accuracy: 0.9407 - val_loss: 0.1490\n",
      "Epoch 17/20\n",
      "\u001b[1m409/409\u001b[0m \u001b[32m━━━━━━━━━━━━━━━━━━━━\u001b[0m\u001b[37m\u001b[0m \u001b[1m9s\u001b[0m 22ms/step - accuracy: 0.9702 - loss: 0.0780 - val_accuracy: 0.9645 - val_loss: 0.1023\n",
      "Epoch 18/20\n",
      "\u001b[1m409/409\u001b[0m \u001b[32m━━━━━━━━━━━━━━━━━━━━\u001b[0m\u001b[37m\u001b[0m \u001b[1m10s\u001b[0m 25ms/step - accuracy: 0.9722 - loss: 0.0745 - val_accuracy: 0.9709 - val_loss: 0.0813\n",
      "Epoch 19/20\n",
      "\u001b[1m409/409\u001b[0m \u001b[32m━━━━━━━━━━━━━━━━━━━━\u001b[0m\u001b[37m\u001b[0m \u001b[1m9s\u001b[0m 23ms/step - accuracy: 0.9730 - loss: 0.0717 - val_accuracy: 0.9777 - val_loss: 0.0701\n",
      "Epoch 20/20\n",
      "\u001b[1m409/409\u001b[0m \u001b[32m━━━━━━━━━━━━━━━━━━━━\u001b[0m\u001b[37m\u001b[0m \u001b[1m9s\u001b[0m 22ms/step - accuracy: 0.9742 - loss: 0.0681 - val_accuracy: 0.9811 - val_loss: 0.0596\n"
     ]
    }
   ],
   "source": [
    "model.compile(loss = \"binary_crossentropy\", optimizer = \"adam\", metrics =[\"accuracy\"])\n",
    "history = model.fit(sequences, yresampled_dl,\n",
    "         epochs = 20, batch_size = 1000,\n",
    "         validation_split = 0.2)"
   ]
  },
  {
   "cell_type": "code",
   "execution_count": 110,
   "id": "f5b373c9-51ad-4a36-b60d-94e551c0c232",
   "metadata": {},
   "outputs": [
    {
     "name": "stdout",
     "output_type": "stream",
     "text": [
      "Maximum Training Accuracy: 97.18%\n",
      "Maximum Validation Accuracy: 98.32%\n"
     ]
    }
   ],
   "source": [
    "train_acc = history.history['accuracy']  # Training accuracy over epochs\n",
    "val_acc = history.history['val_accuracy']  # Validation accuracy over epochs\n",
    "\n",
    "# Get the maximum accuracy for training and validation\n",
    "max_train_acc = max(train_acc)\n",
    "max_val_acc = max(val_acc)\n",
    "\n",
    "# Print the results\n",
    "print(f\"Maximum Training Accuracy: {max_train_acc * 100:.2f}%\")\n",
    "print(f\"Maximum Validation Accuracy: {max_val_acc * 100:.2f}%\")"
   ]
  },
  {
   "cell_type": "code",
   "execution_count": 82,
   "id": "d800c2de-cec6-456c-8717-1b76bae32f8c",
   "metadata": {},
   "outputs": [
    {
     "name": "stderr",
     "output_type": "stream",
     "text": [
      "/opt/anaconda3/lib/python3.11/site-packages/keras/src/layers/core/embedding.py:90: UserWarning: Argument `input_length` is deprecated. Just remove it.\n",
      "  warnings.warn(\n"
     ]
    },
    {
     "data": {
      "text/html": [
       "<pre style=\"white-space:pre;overflow-x:auto;line-height:normal;font-family:Menlo,'DejaVu Sans Mono',consolas,'Courier New',monospace\"><span style=\"font-weight: bold\">Model: \"sequential_1\"</span>\n",
       "</pre>\n"
      ],
      "text/plain": [
       "\u001b[1mModel: \"sequential_1\"\u001b[0m\n"
      ]
     },
     "metadata": {},
     "output_type": "display_data"
    },
    {
     "data": {
      "text/html": [
       "<pre style=\"white-space:pre;overflow-x:auto;line-height:normal;font-family:Menlo,'DejaVu Sans Mono',consolas,'Courier New',monospace\">┏━━━━━━━━━━━━━━━━━━━━━━━━━━━━━━━━━┳━━━━━━━━━━━━━━━━━━━━━━━━┳━━━━━━━━━━━━━━━┓\n",
       "┃<span style=\"font-weight: bold\"> Layer (type)                    </span>┃<span style=\"font-weight: bold\"> Output Shape           </span>┃<span style=\"font-weight: bold\">       Param # </span>┃\n",
       "┡━━━━━━━━━━━━━━━━━━━━━━━━━━━━━━━━━╇━━━━━━━━━━━━━━━━━━━━━━━━╇━━━━━━━━━━━━━━━┩\n",
       "│ embedding_1 (<span style=\"color: #0087ff; text-decoration-color: #0087ff\">Embedding</span>)         │ ?                      │   <span style=\"color: #00af00; text-decoration-color: #00af00\">0</span> (unbuilt) │\n",
       "├─────────────────────────────────┼────────────────────────┼───────────────┤\n",
       "│ bidirectional (<span style=\"color: #0087ff; text-decoration-color: #0087ff\">Bidirectional</span>)   │ ?                      │   <span style=\"color: #00af00; text-decoration-color: #00af00\">0</span> (unbuilt) │\n",
       "├─────────────────────────────────┼────────────────────────┼───────────────┤\n",
       "│ dropout (<span style=\"color: #0087ff; text-decoration-color: #0087ff\">Dropout</span>)               │ ?                      │   <span style=\"color: #00af00; text-decoration-color: #00af00\">0</span> (unbuilt) │\n",
       "├─────────────────────────────────┼────────────────────────┼───────────────┤\n",
       "│ dense_1 (<span style=\"color: #0087ff; text-decoration-color: #0087ff\">Dense</span>)                 │ ?                      │   <span style=\"color: #00af00; text-decoration-color: #00af00\">0</span> (unbuilt) │\n",
       "└─────────────────────────────────┴────────────────────────┴───────────────┘\n",
       "</pre>\n"
      ],
      "text/plain": [
       "┏━━━━━━━━━━━━━━━━━━━━━━━━━━━━━━━━━┳━━━━━━━━━━━━━━━━━━━━━━━━┳━━━━━━━━━━━━━━━┓\n",
       "┃\u001b[1m \u001b[0m\u001b[1mLayer (type)                   \u001b[0m\u001b[1m \u001b[0m┃\u001b[1m \u001b[0m\u001b[1mOutput Shape          \u001b[0m\u001b[1m \u001b[0m┃\u001b[1m \u001b[0m\u001b[1m      Param #\u001b[0m\u001b[1m \u001b[0m┃\n",
       "┡━━━━━━━━━━━━━━━━━━━━━━━━━━━━━━━━━╇━━━━━━━━━━━━━━━━━━━━━━━━╇━━━━━━━━━━━━━━━┩\n",
       "│ embedding_1 (\u001b[38;5;33mEmbedding\u001b[0m)         │ ?                      │   \u001b[38;5;34m0\u001b[0m (unbuilt) │\n",
       "├─────────────────────────────────┼────────────────────────┼───────────────┤\n",
       "│ bidirectional (\u001b[38;5;33mBidirectional\u001b[0m)   │ ?                      │   \u001b[38;5;34m0\u001b[0m (unbuilt) │\n",
       "├─────────────────────────────────┼────────────────────────┼───────────────┤\n",
       "│ dropout (\u001b[38;5;33mDropout\u001b[0m)               │ ?                      │   \u001b[38;5;34m0\u001b[0m (unbuilt) │\n",
       "├─────────────────────────────────┼────────────────────────┼───────────────┤\n",
       "│ dense_1 (\u001b[38;5;33mDense\u001b[0m)                 │ ?                      │   \u001b[38;5;34m0\u001b[0m (unbuilt) │\n",
       "└─────────────────────────────────┴────────────────────────┴───────────────┘\n"
      ]
     },
     "metadata": {},
     "output_type": "display_data"
    },
    {
     "data": {
      "text/html": [
       "<pre style=\"white-space:pre;overflow-x:auto;line-height:normal;font-family:Menlo,'DejaVu Sans Mono',consolas,'Courier New',monospace\"><span style=\"font-weight: bold\"> Total params: </span><span style=\"color: #00af00; text-decoration-color: #00af00\">0</span> (0.00 B)\n",
       "</pre>\n"
      ],
      "text/plain": [
       "\u001b[1m Total params: \u001b[0m\u001b[38;5;34m0\u001b[0m (0.00 B)\n"
      ]
     },
     "metadata": {},
     "output_type": "display_data"
    },
    {
     "data": {
      "text/html": [
       "<pre style=\"white-space:pre;overflow-x:auto;line-height:normal;font-family:Menlo,'DejaVu Sans Mono',consolas,'Courier New',monospace\"><span style=\"font-weight: bold\"> Trainable params: </span><span style=\"color: #00af00; text-decoration-color: #00af00\">0</span> (0.00 B)\n",
       "</pre>\n"
      ],
      "text/plain": [
       "\u001b[1m Trainable params: \u001b[0m\u001b[38;5;34m0\u001b[0m (0.00 B)\n"
      ]
     },
     "metadata": {},
     "output_type": "display_data"
    },
    {
     "data": {
      "text/html": [
       "<pre style=\"white-space:pre;overflow-x:auto;line-height:normal;font-family:Menlo,'DejaVu Sans Mono',consolas,'Courier New',monospace\"><span style=\"font-weight: bold\"> Non-trainable params: </span><span style=\"color: #00af00; text-decoration-color: #00af00\">0</span> (0.00 B)\n",
       "</pre>\n"
      ],
      "text/plain": [
       "\u001b[1m Non-trainable params: \u001b[0m\u001b[38;5;34m0\u001b[0m (0.00 B)\n"
      ]
     },
     "metadata": {},
     "output_type": "display_data"
    }
   ],
   "source": [
    "import tensorflow as tf\n",
    "from tensorflow.keras.models import Sequential\n",
    "from tensorflow.keras.layers import Embedding, Bidirectional, LSTM, Dense, Dropout\n",
    "\n",
    "# max_seq_length = 35\n",
    "# vocab_size = sequences.max() + 1\n",
    "\n",
    "# lstm_model = Sequential()\n",
    "# lstm_model.add(Embedding(input_dim=vocab_size, output_dim=100, input_length=max_seq_length))\n",
    "# lstm_model.add(Bidirectional(LSTM(64, return_sequences=True)))\n",
    "# lstm_model.add(Dropout(0.2))\n",
    "# lstm_model.add(Dense(1, activation=\"sigmoid\"))\n",
    "# lstm_model.compile(loss=\"binary_crossentropy\", optimizer=\"adam\", metrics=[\"accuracy\"])\n",
    "# lstm_model.summary()\n",
    "\n",
    "max_seq_length = 35\n",
    "vocab_size = sequences.max() + 1\n",
    "\n",
    "lstm_model = Sequential()\n",
    "lstm_model.add(Embedding(input_dim=vocab_size, output_dim=100, input_length=max_seq_length))\n",
    "lstm_model.add(Bidirectional(LSTM(64, return_sequences=False)))  # Change to False\n",
    "lstm_model.add(Dropout(0.2))\n",
    "lstm_model.add(Dense(1, activation=\"sigmoid\"))\n",
    "lstm_model.compile(loss=\"binary_crossentropy\", optimizer=\"adam\", metrics=[\"accuracy\"])\n",
    "lstm_model.summary()"
   ]
  },
  {
   "cell_type": "code",
   "execution_count": 83,
   "id": "9a2ae739-bf9e-4926-9749-3751d263715c",
   "metadata": {},
   "outputs": [
    {
     "name": "stdout",
     "output_type": "stream",
     "text": [
      "Epoch 1/20\n",
      "\u001b[1m409/409\u001b[0m \u001b[32m━━━━━━━━━━━━━━━━━━━━\u001b[0m\u001b[37m\u001b[0m \u001b[1m90s\u001b[0m 216ms/step - accuracy: 0.7088 - loss: 0.5607 - val_accuracy: 0.6145 - val_loss: 0.6534\n",
      "Epoch 2/20\n",
      "\u001b[1m409/409\u001b[0m \u001b[32m━━━━━━━━━━━━━━━━━━━━\u001b[0m\u001b[37m\u001b[0m \u001b[1m72s\u001b[0m 175ms/step - accuracy: 0.7809 - loss: 0.4576 - val_accuracy: 0.6809 - val_loss: 0.5723\n",
      "Epoch 3/20\n",
      "\u001b[1m409/409\u001b[0m \u001b[32m━━━━━━━━━━━━━━━━━━━━\u001b[0m\u001b[37m\u001b[0m \u001b[1m75s\u001b[0m 183ms/step - accuracy: 0.8073 - loss: 0.4036 - val_accuracy: 0.6724 - val_loss: 0.5806\n",
      "Epoch 4/20\n",
      "\u001b[1m409/409\u001b[0m \u001b[32m━━━━━━━━━━━━━━━━━━━━\u001b[0m\u001b[37m\u001b[0m \u001b[1m95s\u001b[0m 232ms/step - accuracy: 0.8322 - loss: 0.3544 - val_accuracy: 0.7685 - val_loss: 0.4754\n",
      "Epoch 5/20\n",
      "\u001b[1m409/409\u001b[0m \u001b[32m━━━━━━━━━━━━━━━━━━━━\u001b[0m\u001b[37m\u001b[0m \u001b[1m128s\u001b[0m 314ms/step - accuracy: 0.8568 - loss: 0.3073 - val_accuracy: 0.8862 - val_loss: 0.3102\n",
      "Epoch 6/20\n",
      "\u001b[1m409/409\u001b[0m \u001b[32m━━━━━━━━━━━━━━━━━━━━\u001b[0m\u001b[37m\u001b[0m \u001b[1m77s\u001b[0m 185ms/step - accuracy: 0.8743 - loss: 0.2730 - val_accuracy: 0.9077 - val_loss: 0.2615\n",
      "Epoch 7/20\n",
      "\u001b[1m409/409\u001b[0m \u001b[32m━━━━━━━━━━━━━━━━━━━━\u001b[0m\u001b[37m\u001b[0m \u001b[1m77s\u001b[0m 188ms/step - accuracy: 0.8912 - loss: 0.2411 - val_accuracy: 0.8594 - val_loss: 0.3259\n",
      "Epoch 8/20\n",
      "\u001b[1m409/409\u001b[0m \u001b[32m━━━━━━━━━━━━━━━━━━━━\u001b[0m\u001b[37m\u001b[0m \u001b[1m83s\u001b[0m 202ms/step - accuracy: 0.9028 - loss: 0.2157 - val_accuracy: 0.9282 - val_loss: 0.2088\n",
      "Epoch 9/20\n",
      "\u001b[1m409/409\u001b[0m \u001b[32m━━━━━━━━━━━━━━━━━━━━\u001b[0m\u001b[37m\u001b[0m \u001b[1m75s\u001b[0m 183ms/step - accuracy: 0.9121 - loss: 0.1966 - val_accuracy: 0.9210 - val_loss: 0.2073\n",
      "Epoch 10/20\n",
      "\u001b[1m409/409\u001b[0m \u001b[32m━━━━━━━━━━━━━━━━━━━━\u001b[0m\u001b[37m\u001b[0m \u001b[1m75s\u001b[0m 183ms/step - accuracy: 0.9210 - loss: 0.1774 - val_accuracy: 0.9352 - val_loss: 0.1852\n",
      "Epoch 11/20\n",
      "\u001b[1m409/409\u001b[0m \u001b[32m━━━━━━━━━━━━━━━━━━━━\u001b[0m\u001b[37m\u001b[0m \u001b[1m125s\u001b[0m 305ms/step - accuracy: 0.9292 - loss: 0.1620 - val_accuracy: 0.9285 - val_loss: 0.1963\n",
      "Epoch 12/20\n",
      "\u001b[1m409/409\u001b[0m \u001b[32m━━━━━━━━━━━━━━━━━━━━\u001b[0m\u001b[37m\u001b[0m \u001b[1m125s\u001b[0m 304ms/step - accuracy: 0.9336 - loss: 0.1513 - val_accuracy: 0.9411 - val_loss: 0.1690\n",
      "Epoch 13/20\n",
      "\u001b[1m409/409\u001b[0m \u001b[32m━━━━━━━━━━━━━━━━━━━━\u001b[0m\u001b[37m\u001b[0m \u001b[1m133s\u001b[0m 326ms/step - accuracy: 0.9411 - loss: 0.1370 - val_accuracy: 0.9438 - val_loss: 0.1551\n",
      "Epoch 14/20\n",
      "\u001b[1m409/409\u001b[0m \u001b[32m━━━━━━━━━━━━━━━━━━━━\u001b[0m\u001b[37m\u001b[0m \u001b[1m132s\u001b[0m 324ms/step - accuracy: 0.9441 - loss: 0.1292 - val_accuracy: 0.9541 - val_loss: 0.1405\n",
      "Epoch 15/20\n",
      "\u001b[1m409/409\u001b[0m \u001b[32m━━━━━━━━━━━━━━━━━━━━\u001b[0m\u001b[37m\u001b[0m \u001b[1m122s\u001b[0m 298ms/step - accuracy: 0.9479 - loss: 0.1218 - val_accuracy: 0.9704 - val_loss: 0.1023\n",
      "Epoch 16/20\n",
      "\u001b[1m409/409\u001b[0m \u001b[32m━━━━━━━━━━━━━━━━━━━━\u001b[0m\u001b[37m\u001b[0m \u001b[1m132s\u001b[0m 321ms/step - accuracy: 0.9520 - loss: 0.1129 - val_accuracy: 0.9713 - val_loss: 0.0929\n",
      "Epoch 17/20\n",
      "\u001b[1m409/409\u001b[0m \u001b[32m━━━━━━━━━━━━━━━━━━━━\u001b[0m\u001b[37m\u001b[0m \u001b[1m83s\u001b[0m 203ms/step - accuracy: 0.9551 - loss: 0.1060 - val_accuracy: 0.9648 - val_loss: 0.1129\n",
      "Epoch 18/20\n",
      "\u001b[1m409/409\u001b[0m \u001b[32m━━━━━━━━━━━━━━━━━━━━\u001b[0m\u001b[37m\u001b[0m \u001b[1m111s\u001b[0m 271ms/step - accuracy: 0.9587 - loss: 0.0984 - val_accuracy: 0.9621 - val_loss: 0.1040\n",
      "Epoch 19/20\n",
      "\u001b[1m409/409\u001b[0m \u001b[32m━━━━━━━━━━━━━━━━━━━━\u001b[0m\u001b[37m\u001b[0m \u001b[1m97s\u001b[0m 237ms/step - accuracy: 0.9616 - loss: 0.0924 - val_accuracy: 0.9640 - val_loss: 0.1069\n",
      "Epoch 20/20\n",
      "\u001b[1m409/409\u001b[0m \u001b[32m━━━━━━━━━━━━━━━━━━━━\u001b[0m\u001b[37m\u001b[0m \u001b[1m87s\u001b[0m 212ms/step - accuracy: 0.9645 - loss: 0.0858 - val_accuracy: 0.9700 - val_loss: 0.0945\n"
     ]
    }
   ],
   "source": [
    "history2 = lstm_model.fit(sequences, yresampled_dl,\n",
    "         epochs = 20, batch_size = 1000,\n",
    "         validation_split = 0.2)"
   ]
  },
  {
   "cell_type": "code",
   "execution_count": 108,
   "id": "bc2d752a-ccc2-476e-ba5a-e0f098699636",
   "metadata": {},
   "outputs": [
    {
     "name": "stdout",
     "output_type": "stream",
     "text": [
      "Maximum Training Accuracy: 96.21%\n",
      "Maximum Validation Accuracy: 97.13%\n"
     ]
    }
   ],
   "source": [
    "train_acc = history2.history['accuracy']  # Training accuracy over epochs\n",
    "val_acc = history2.history['val_accuracy']  # Validation accuracy over epochs\n",
    "\n",
    "# Get the maximum accuracy for training and validation\n",
    "max_train_acc = max(train_acc)\n",
    "max_val_acc = max(val_acc)\n",
    "\n",
    "# Print the results\n",
    "print(f\"Maximum Training Accuracy: {max_train_acc * 100:.2f}%\")\n",
    "print(f\"Maximum Validation Accuracy: {max_val_acc * 100:.2f}%\")"
   ]
  },
  {
   "cell_type": "markdown",
   "id": "722ae344-349e-430a-a37c-0a34f07d94fa",
   "metadata": {},
   "source": [
    "## INFERENCE"
   ]
  },
  {
   "cell_type": "code",
   "execution_count": 86,
   "id": "d1d6be73-d1d8-44e0-8b6d-44d6016a5dfc",
   "metadata": {},
   "outputs": [],
   "source": [
    "def inference_dl(sam1, sam2):\n",
    "    docx = [sam1 + \" \" + sam2]\n",
    "    sequences = tokenizer.texts_to_sequences(docx)\n",
    "    sequences = pad_sequences(sequences, padding = \"post\", maxlen = 35) \n",
    "    return sequences"
   ]
  },
  {
   "cell_type": "code",
   "execution_count": 92,
   "id": "fc1d784b-d706-4e70-bd08-a7642b44a359",
   "metadata": {},
   "outputs": [
    {
     "data": {
      "text/plain": [
       "('Which one is grammatically correct: \"an year\" or \"a year\"?',\n",
       " 'The atmosphere seem to be that of a friendly one. Is this phrase grammatically correct?',\n",
       " 0)"
      ]
     },
     "execution_count": 92,
     "metadata": {},
     "output_type": "execute_result"
    }
   ],
   "source": [
    "l = 13243\n",
    "sample1 = data[\"question1\"][l]\n",
    "sample2 = data[\"question2\"][l]\n",
    "sample1, sample2, data[\"is_duplicate\"][l]"
   ]
  },
  {
   "cell_type": "code",
   "execution_count": 93,
   "id": "033c6359-aa62-4631-95e9-875a7b5e207d",
   "metadata": {},
   "outputs": [],
   "source": [
    "sample1 = \"Who is the most liked character of all time\"\n",
    "sample2 = 'Which character is the most liked one'"
   ]
  },
  {
   "cell_type": "code",
   "execution_count": 94,
   "id": "351b787c-7115-4564-b8f5-ce996e2ef4b9",
   "metadata": {},
   "outputs": [
    {
     "data": {
      "text/plain": [
       "'DUPLICATE'"
      ]
     },
     "execution_count": 94,
     "metadata": {},
     "output_type": "execute_result"
    }
   ],
   "source": [
    "inf_data = inference_dl(sample1, sample2)\n",
    "out = lstm_model.predict(inf_data, verbose = 0)\n",
    "out = tf.squeeze(out)\n",
    "out = \"DUPLICATE\" if np.mean(out) >= 0.5 else \"DIFFERENT\"\n",
    "out"
   ]
  },
  {
   "cell_type": "code",
   "execution_count": 95,
   "id": "eaa0b626-ca61-44a0-bb4d-45cc389c7aec",
   "metadata": {},
   "outputs": [
    {
     "data": {
      "text/html": [
       "<div>\n",
       "<style scoped>\n",
       "    .dataframe tbody tr th:only-of-type {\n",
       "        vertical-align: middle;\n",
       "    }\n",
       "\n",
       "    .dataframe tbody tr th {\n",
       "        vertical-align: top;\n",
       "    }\n",
       "\n",
       "    .dataframe thead th {\n",
       "        text-align: right;\n",
       "    }\n",
       "</style>\n",
       "<table border=\"1\" class=\"dataframe\">\n",
       "  <thead>\n",
       "    <tr style=\"text-align: right;\">\n",
       "      <th></th>\n",
       "      <th>question1</th>\n",
       "      <th>question2</th>\n",
       "      <th>is_duplicate</th>\n",
       "    </tr>\n",
       "  </thead>\n",
       "  <tbody>\n",
       "    <tr>\n",
       "      <th>0</th>\n",
       "      <td>Did South Korea cheat during the 2014 Asian Ga...</td>\n",
       "      <td>Why does North Korea hate South Korea?</td>\n",
       "      <td>0</td>\n",
       "    </tr>\n",
       "    <tr>\n",
       "      <th>1</th>\n",
       "      <td>How do you make money with Quora?</td>\n",
       "      <td>How do I make money through Quora?</td>\n",
       "      <td>1</td>\n",
       "    </tr>\n",
       "    <tr>\n",
       "      <th>2</th>\n",
       "      <td>What do rich people watch on tv?</td>\n",
       "      <td>What do wealthy people watch on tv?</td>\n",
       "      <td>1</td>\n",
       "    </tr>\n",
       "    <tr>\n",
       "      <th>3</th>\n",
       "      <td>What are the top 20 most unscrupulous and corr...</td>\n",
       "      <td>R15 for city rides and touring?</td>\n",
       "      <td>0</td>\n",
       "    </tr>\n",
       "    <tr>\n",
       "      <th>4</th>\n",
       "      <td>Are 88 keys really needed to play classical pi...</td>\n",
       "      <td>If you could play only one piece on piano, wha...</td>\n",
       "      <td>0</td>\n",
       "    </tr>\n",
       "    <tr>\n",
       "      <th>5</th>\n",
       "      <td>What are the unsolved mysteries of environment...</td>\n",
       "      <td>Which problems are unsolved in mechanical engi...</td>\n",
       "      <td>0</td>\n",
       "    </tr>\n",
       "    <tr>\n",
       "      <th>6</th>\n",
       "      <td>Why is my Kodak printer not detecting the ink ...</td>\n",
       "      <td>My Kodak printer is not detecting the new ink ...</td>\n",
       "      <td>1</td>\n",
       "    </tr>\n",
       "    <tr>\n",
       "      <th>7</th>\n",
       "      <td>What happens if you fly a plane through a cloud?</td>\n",
       "      <td>Non-Indians who have been to India, how did yo...</td>\n",
       "      <td>0</td>\n",
       "    </tr>\n",
       "    <tr>\n",
       "      <th>8</th>\n",
       "      <td>Can I drink beer after typhoid?</td>\n",
       "      <td>How can I GET FUNDING TO start CLOTHING FACTOR...</td>\n",
       "      <td>0</td>\n",
       "    </tr>\n",
       "    <tr>\n",
       "      <th>9</th>\n",
       "      <td>How vulnerable are baby deer mice? What is the...</td>\n",
       "      <td>How do baby animals abandoned by parents at th...</td>\n",
       "      <td>0</td>\n",
       "    </tr>\n",
       "  </tbody>\n",
       "</table>\n",
       "</div>"
      ],
      "text/plain": [
       "                                           question1  \\\n",
       "0  Did South Korea cheat during the 2014 Asian Ga...   \n",
       "1                  How do you make money with Quora?   \n",
       "2                   What do rich people watch on tv?   \n",
       "3  What are the top 20 most unscrupulous and corr...   \n",
       "4  Are 88 keys really needed to play classical pi...   \n",
       "5  What are the unsolved mysteries of environment...   \n",
       "6  Why is my Kodak printer not detecting the ink ...   \n",
       "7   What happens if you fly a plane through a cloud?   \n",
       "8                    Can I drink beer after typhoid?   \n",
       "9  How vulnerable are baby deer mice? What is the...   \n",
       "\n",
       "                                           question2  is_duplicate  \n",
       "0             Why does North Korea hate South Korea?             0  \n",
       "1                 How do I make money through Quora?             1  \n",
       "2                What do wealthy people watch on tv?             1  \n",
       "3                    R15 for city rides and touring?             0  \n",
       "4  If you could play only one piece on piano, wha...             0  \n",
       "5  Which problems are unsolved in mechanical engi...             0  \n",
       "6  My Kodak printer is not detecting the new ink ...             1  \n",
       "7  Non-Indians who have been to India, how did yo...             0  \n",
       "8  How can I GET FUNDING TO start CLOTHING FACTOR...             0  \n",
       "9  How do baby animals abandoned by parents at th...             0  "
      ]
     },
     "execution_count": 95,
     "metadata": {},
     "output_type": "execute_result"
    }
   ],
   "source": [
    "sam = data.sample(10).iloc[:,3:6]\n",
    "sam.reset_index(inplace = True, drop = True)\n",
    "sam"
   ]
  },
  {
   "cell_type": "code",
   "execution_count": 96,
   "id": "f3779510-331a-412f-a36a-7ca8ca5a8919",
   "metadata": {},
   "outputs": [
    {
     "data": {
      "text/html": [
       "<div>\n",
       "<style scoped>\n",
       "    .dataframe tbody tr th:only-of-type {\n",
       "        vertical-align: middle;\n",
       "    }\n",
       "\n",
       "    .dataframe tbody tr th {\n",
       "        vertical-align: top;\n",
       "    }\n",
       "\n",
       "    .dataframe thead th {\n",
       "        text-align: right;\n",
       "    }\n",
       "</style>\n",
       "<table border=\"1\" class=\"dataframe\">\n",
       "  <thead>\n",
       "    <tr style=\"text-align: right;\">\n",
       "      <th></th>\n",
       "      <th>question1</th>\n",
       "      <th>question2</th>\n",
       "      <th>is_duplicate</th>\n",
       "      <th>Predictions</th>\n",
       "    </tr>\n",
       "  </thead>\n",
       "  <tbody>\n",
       "    <tr>\n",
       "      <th>0</th>\n",
       "      <td>Did South Korea cheat during the 2014 Asian Ga...</td>\n",
       "      <td>Why does North Korea hate South Korea?</td>\n",
       "      <td>0</td>\n",
       "      <td>0</td>\n",
       "    </tr>\n",
       "    <tr>\n",
       "      <th>1</th>\n",
       "      <td>How do you make money with Quora?</td>\n",
       "      <td>How do I make money through Quora?</td>\n",
       "      <td>1</td>\n",
       "      <td>1</td>\n",
       "    </tr>\n",
       "    <tr>\n",
       "      <th>2</th>\n",
       "      <td>What do rich people watch on tv?</td>\n",
       "      <td>What do wealthy people watch on tv?</td>\n",
       "      <td>1</td>\n",
       "      <td>1</td>\n",
       "    </tr>\n",
       "    <tr>\n",
       "      <th>3</th>\n",
       "      <td>What are the top 20 most unscrupulous and corr...</td>\n",
       "      <td>R15 for city rides and touring?</td>\n",
       "      <td>0</td>\n",
       "      <td>0</td>\n",
       "    </tr>\n",
       "    <tr>\n",
       "      <th>4</th>\n",
       "      <td>Are 88 keys really needed to play classical pi...</td>\n",
       "      <td>If you could play only one piece on piano, wha...</td>\n",
       "      <td>0</td>\n",
       "      <td>0</td>\n",
       "    </tr>\n",
       "    <tr>\n",
       "      <th>5</th>\n",
       "      <td>What are the unsolved mysteries of environment...</td>\n",
       "      <td>Which problems are unsolved in mechanical engi...</td>\n",
       "      <td>0</td>\n",
       "      <td>0</td>\n",
       "    </tr>\n",
       "    <tr>\n",
       "      <th>6</th>\n",
       "      <td>Why is my Kodak printer not detecting the ink ...</td>\n",
       "      <td>My Kodak printer is not detecting the new ink ...</td>\n",
       "      <td>1</td>\n",
       "      <td>1</td>\n",
       "    </tr>\n",
       "    <tr>\n",
       "      <th>7</th>\n",
       "      <td>What happens if you fly a plane through a cloud?</td>\n",
       "      <td>Non-Indians who have been to India, how did yo...</td>\n",
       "      <td>0</td>\n",
       "      <td>0</td>\n",
       "    </tr>\n",
       "    <tr>\n",
       "      <th>8</th>\n",
       "      <td>Can I drink beer after typhoid?</td>\n",
       "      <td>How can I GET FUNDING TO start CLOTHING FACTOR...</td>\n",
       "      <td>0</td>\n",
       "      <td>0</td>\n",
       "    </tr>\n",
       "    <tr>\n",
       "      <th>9</th>\n",
       "      <td>How vulnerable are baby deer mice? What is the...</td>\n",
       "      <td>How do baby animals abandoned by parents at th...</td>\n",
       "      <td>0</td>\n",
       "      <td>0</td>\n",
       "    </tr>\n",
       "  </tbody>\n",
       "</table>\n",
       "</div>"
      ],
      "text/plain": [
       "                                           question1  \\\n",
       "0  Did South Korea cheat during the 2014 Asian Ga...   \n",
       "1                  How do you make money with Quora?   \n",
       "2                   What do rich people watch on tv?   \n",
       "3  What are the top 20 most unscrupulous and corr...   \n",
       "4  Are 88 keys really needed to play classical pi...   \n",
       "5  What are the unsolved mysteries of environment...   \n",
       "6  Why is my Kodak printer not detecting the ink ...   \n",
       "7   What happens if you fly a plane through a cloud?   \n",
       "8                    Can I drink beer after typhoid?   \n",
       "9  How vulnerable are baby deer mice? What is the...   \n",
       "\n",
       "                                           question2  is_duplicate  \\\n",
       "0             Why does North Korea hate South Korea?             0   \n",
       "1                 How do I make money through Quora?             1   \n",
       "2                What do wealthy people watch on tv?             1   \n",
       "3                    R15 for city rides and touring?             0   \n",
       "4  If you could play only one piece on piano, wha...             0   \n",
       "5  Which problems are unsolved in mechanical engi...             0   \n",
       "6  My Kodak printer is not detecting the new ink ...             1   \n",
       "7  Non-Indians who have been to India, how did yo...             0   \n",
       "8  How can I GET FUNDING TO start CLOTHING FACTOR...             0   \n",
       "9  How do baby animals abandoned by parents at th...             0   \n",
       "\n",
       "   Predictions  \n",
       "0            0  \n",
       "1            1  \n",
       "2            1  \n",
       "3            0  \n",
       "4            0  \n",
       "5            0  \n",
       "6            1  \n",
       "7            0  \n",
       "8            0  \n",
       "9            0  "
      ]
     },
     "execution_count": 96,
     "metadata": {},
     "output_type": "execute_result"
    }
   ],
   "source": [
    "outs = []\n",
    "for k in range(len(sam)):\n",
    "    sample1 = sam[\"question1\"][k]\n",
    "    sample2 = sam[\"question2\"][k]\n",
    "    inf_data = inference_dl(sample1, sample2)\n",
    "    out = lstm_model.predict(inf_data, verbose = 0)\n",
    "    out = tf.squeeze(out)\n",
    "    out = 1 if np.mean(out) >= 0.5 else 0\n",
    "    outs.append(out)\n",
    "sam[\"Predictions\"] = outs\n",
    "sam"
   ]
  },
  {
   "cell_type": "markdown",
   "id": "d965646e-3412-40cb-8cf0-30a60177626c",
   "metadata": {},
   "source": [
    "## THANK YOU!"
   ]
  },
  {
   "cell_type": "code",
   "execution_count": null,
   "id": "68bbb6df-30d5-4e22-889a-9041c6ef7b0b",
   "metadata": {},
   "outputs": [],
   "source": []
  }
 ],
 "metadata": {
  "kernelspec": {
   "display_name": "Python 3 (ipykernel)",
   "language": "python",
   "name": "python3"
  },
  "language_info": {
   "codemirror_mode": {
    "name": "ipython",
    "version": 3
   },
   "file_extension": ".py",
   "mimetype": "text/x-python",
   "name": "python",
   "nbconvert_exporter": "python",
   "pygments_lexer": "ipython3",
   "version": "3.11.8"
  }
 },
 "nbformat": 4,
 "nbformat_minor": 5
}
